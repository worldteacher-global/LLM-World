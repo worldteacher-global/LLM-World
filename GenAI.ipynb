{
 "cells": [
  {
   "cell_type": "code",
   "execution_count": 5,
   "metadata": {},
   "outputs": [],
   "source": [
    "!pip install --quiet openai"
   ]
  },
  {
   "cell_type": "code",
   "execution_count": 6,
   "metadata": {},
   "outputs": [],
   "source": [
    "import openai\n",
    "from openai import AzureOpenAI\n",
    "\n",
    "import os\n",
    "import requests\n",
    "\n",
    "from dotenv import load_dotenv"
   ]
  },
  {
   "cell_type": "code",
   "execution_count": 7,
   "metadata": {},
   "outputs": [],
   "source": [
    "load_dotenv('.env')\n",
    "\n",
    "def my_gpt(model, ask_a_question):\n",
    "    api_response = requests.get(os.getenv('AZURE_OPENAI_BASEURL'))\n",
    "    payload = api_response.json()\n",
    "\n",
    "    myClient = AzureOpenAI(\n",
    "        api_key = os.getenv('AZURE_OPENAI_KEY'),\n",
    "        api_version = '2024-12-01-preview',\n",
    "        azure_endpoint = payload['nonprod'][model][0]['endpoint']\n",
    "    )\n",
    "\n",
    "    convo = []\n",
    "    convo.append({'role':'user','content':ask_a_question})\n",
    "    response = myClient.chat.completions.create(\n",
    "    model = model,\n",
    "    max_tokens = 30000,\n",
    "    messages = convo,\n",
    "    temperature = 0)\n",
    "\n",
    "    reply = response.choices[0].message.content\n",
    "    convo.append({'role':'assistant','content':reply})\n",
    "\n",
    "    return convo"
   ]
  },
  {
   "cell_type": "code",
   "execution_count": 8,
   "metadata": {},
   "outputs": [
    {
     "name": "stdout",
     "output_type": "stream",
     "text": [
      "[(0, 'dall-e-3'), (1, 'gpt-35-turbo'), (2, 'gpt-35-turbo-instruct'), (3, 'gpt-4-turbo'), (4, 'gpt-4.1'), (5, 'gpt-4.1-mini'), (6, 'gpt-4.1-nano'), (7, 'gpt-4.5'), (8, 'gpt-4o-audio'), (9, 'gpt-4o-global'), (10, 'gpt-4o-mini-global'), (11, 'gpt-4o-regional'), (12, 'gpt-image-1'), (13, 'o1'), (14, 'o1-mini'), (15, 'o3'), (16, 'o3-mini'), (17, 'o4-mini'), (18, 'text-embedding-3-large'), (19, 'text-embedding-3-small'), (20, 'text-embedding-ada-002')]\n"
     ]
    }
   ],
   "source": [
    "response = requests.get(os.getenv('AZURE_OPENAI_BASEURL'))\n",
    "returned_payload = response.json()\n",
    "\n",
    "list_of_models = [models for models in enumerate(returned_payload['nonprod'].keys())]\n",
    "print(list_of_models)"
   ]
  },
  {
   "cell_type": "code",
   "execution_count": 9,
   "metadata": {},
   "outputs": [
    {
     "name": "stdout",
     "output_type": "stream",
     "text": [
      "gpt-4.1\n"
     ]
    }
   ],
   "source": [
    "model_index = 4\n",
    "\n",
    "mymodel = list_of_models[model_index][1]\n",
    "print(mymodel)"
   ]
  },
  {
   "cell_type": "code",
   "execution_count": 10,
   "metadata": {},
   "outputs": [
    {
     "data": {
      "text/plain": [
       "[{'role': 'user', 'content': 'How far is saturn from the sun?'},\n",
       " {'role': 'assistant',\n",
       "  'content': 'Saturn is, on average, about **1.43 billion kilometers** (or **886 million miles**) away from the Sun. This distance is also expressed as **9.5 astronomical units (AU)**, where 1 AU is the average distance from the Earth to the Sun (about 150 million kilometers or 93 million miles).\\n\\nKeep in mind that Saturn’s distance from the Sun varies slightly because its orbit is not a perfect circle, but the average distance is as stated above.'}]"
      ]
     },
     "execution_count": 10,
     "metadata": {},
     "output_type": "execute_result"
    }
   ],
   "source": [
    "my_gpt(mymodel,'How far is saturn from the sun?')\n"
   ]
  },
  {
   "cell_type": "code",
   "execution_count": 11,
   "metadata": {},
   "outputs": [
    {
     "data": {
      "text/plain": [
       "[[{'role': 'user', 'content': 'Where are kangaroos mostly found?'},\n",
       "  {'role': 'assistant',\n",
       "   'content': 'Kangaroos are **mostly found in Australia**. They are native to the Australian continent and are commonly seen in a variety of habitats, including grasslands, forests, savannas, and bushland. Some species of kangaroos can also be found in Tasmania and New Guinea. However, the largest populations are in the open plains and grasslands of **eastern and southern Australia**. Kangaroos are a national symbol of Australia and are not naturally found in the wild outside of this region.'}],\n",
       " [{'role': 'user', 'content': 'What countries are best for growing apples?'},\n",
       "  {'role': 'assistant',\n",
       "   'content': 'The best countries for growing apples typically have **temperate climates** with cold winters and moderate summers, which are ideal for apple tree dormancy and fruit development. Here are some of the top apple-growing countries and regions, along with reasons why they are suitable:\\n\\n---\\n\\n### **1. China**\\n- **World’s largest apple producer** (over 40% of global production).\\n- Major regions: Shandong, Shaanxi, and Hebei provinces.\\n- **Why:** Large land area, suitable climate, and significant investment in apple agriculture.\\n\\n### **2. United States**\\n- **Second largest producer.**\\n- Major regions: Washington State (by far the largest), New York, Michigan, Pennsylvania.\\n- **Why:** Cool winters, warm summers, advanced agricultural technology, and good irrigation.\\n\\n### **3. Poland**\\n- **Largest producer in Europe.**\\n- Major regions: Mazovia, Lublin, and Łódź.\\n- **Why:** Fertile soils, temperate climate, and long tradition of apple cultivation.\\n\\n### **4. India**\\n- Major regions: Himachal Pradesh, Jammu & Kashmir, Uttarakhand.\\n- **Why:** Himalayan foothills provide cool winters and moderate summers.\\n\\n### **5. Russia**\\n- Major regions: Central and Southern Russia.\\n- **Why:** Large land area with suitable temperate zones.\\n\\n### **6. Turkey**\\n- Major regions: Isparta, Niğde, Karaman.\\n- **Why:** Diverse climates, with some regions ideal for apple growing.\\n\\n### **7. Iran**\\n- Major regions: West Azerbaijan, East Azerbaijan, Tehran.\\n- **Why:** Suitable highland climates.\\n\\n### **8. Italy**\\n- Major regions: Trentino-Alto Adige/Südtirol, Emilia-Romagna.\\n- **Why:** Alpine valleys with cool nights and warm days.\\n\\n### **9. France**\\n- Major regions: Normandy, Loire Valley, Provence.\\n- **Why:** Mild, temperate climate and rich soils.\\n\\n### **10. Chile**\\n- Major regions: Central Valley.\\n- **Why:** Mediterranean climate, opposite growing season to the Northern Hemisphere.\\n\\n---\\n\\n## **Key Factors for Good Apple Growing Countries**\\n- **Cold winters** (for dormancy)\\n- **Frost-free spring** (to avoid blossom damage)\\n- **Moderate summers** (not too hot)\\n- **Well-drained, fertile soils**\\n- **Adequate rainfall or irrigation**\\n\\n---\\n\\n## **Other Notable Countries**\\n- New Zealand (Hawke’s Bay, Nelson)\\n- Germany\\n- Argentina\\n- South Africa\\n\\n---\\n\\n**Summary:**  \\nThe best countries for growing apples are those with **temperate climates**, **cold winters**, and **well-drained soils**. China, the USA, and Poland are the top three, but many countries in Europe, Asia, and the Americas have excellent apple-growing regions.'}],\n",
       " [{'role': 'user', 'content': 'Who let the dogs out?'},\n",
       "  {'role': 'assistant',\n",
       "   'content': 'Who? Who? Who? Who? \\n\\nThe phrase \"Who let the dogs out?\" is the famous chorus from the 2000 hit song by the Baha Men. While the song asks the question, it never actually answers it—leaving it as a fun, catchy mystery! If you’re looking for a deeper meaning, some interpretations suggest the \"dogs\" refer to rowdy men at a party, but officially, the answer remains unsolved.'}]]"
      ]
     },
     "execution_count": 11,
     "metadata": {},
     "output_type": "execute_result"
    }
   ],
   "source": [
    "list_of_questions = ['Where are kangaroos mostly found?', 'What countries are best for growing apples?', 'Who let the dogs out?']\n",
    "\n",
    "[my_gpt(mymodel, question) for question in list_of_questions]"
   ]
  },
  {
   "cell_type": "code",
   "execution_count": null,
   "metadata": {},
   "outputs": [],
   "source": []
  }
 ],
 "metadata": {
  "kernelspec": {
   "display_name": "base",
   "language": "python",
   "name": "python3"
  },
  "language_info": {
   "codemirror_mode": {
    "name": "ipython",
    "version": 3
   },
   "file_extension": ".py",
   "mimetype": "text/x-python",
   "name": "python",
   "nbconvert_exporter": "python",
   "pygments_lexer": "ipython3",
   "version": "3.12.9"
  }
 },
 "nbformat": 4,
 "nbformat_minor": 2
}
