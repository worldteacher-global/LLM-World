{
 "cells": [
  {
   "cell_type": "code",
   "execution_count": 2,
   "id": "550ec21b-1dab-4996-af27-34664b542e0b",
   "metadata": {},
   "outputs": [],
   "source": [
    "from datasets import load_dataset"
   ]
  },
  {
   "cell_type": "code",
   "execution_count": 11,
   "id": "faf1485d-1f40-41f0-9308-d4d60705cbd7",
   "metadata": {},
   "outputs": [],
   "source": [
    "dataset = load_dataset(\"json\", data_files=\"/app/Files/training_set.jsonl\", split=\"train\")"
   ]
  },
  {
   "cell_type": "code",
   "execution_count": 12,
   "id": "9e7810fe-728a-41f2-add2-8abac21450f3",
   "metadata": {},
   "outputs": [
    {
     "data": {
      "text/plain": [
       "{'messages': [{'role': 'system',\n",
       "   'content': 'You are a mathematician who is specialized in linear algebra and also statistics.'},\n",
       "  {'role': 'user', 'content': 'What is a vector space in linear algebra?'},\n",
       "  {'role': 'assistant',\n",
       "   'content': 'A vector space is a collection of vectors where you can add them together and multiply them by scalars, following specific rules.'}]}"
      ]
     },
     "execution_count": 12,
     "metadata": {},
     "output_type": "execute_result"
    }
   ],
   "source": [
    "\n",
    "dataset[0]"
   ]
  },
  {
   "cell_type": "code",
   "execution_count": 15,
   "id": "26e8c4bb-da94-4484-b291-274d701d7077",
   "metadata": {},
   "outputs": [
    {
     "data": {
      "text/plain": [
       "[{'role': 'system',\n",
       "  'content': 'You are a mathematician who is specialized in linear algebra and also statistics.'},\n",
       " {'role': 'user', 'content': 'What is a vector space in linear algebra?'},\n",
       " {'role': 'assistant',\n",
       "  'content': 'A vector space is a collection of vectors where you can add them together and multiply them by scalars, following specific rules.'}]"
      ]
     },
     "execution_count": 15,
     "metadata": {},
     "output_type": "execute_result"
    }
   ],
   "source": [
    "dataset[0]['messages']"
   ]
  },
  {
   "cell_type": "code",
   "execution_count": 18,
   "id": "91dadb4c-230d-4904-a284-c0079c29f8e8",
   "metadata": {},
   "outputs": [],
   "source": [
    "# convert to Harmony response format\n",
    "from transformers import AutoTokenizer\n",
    "\n",
    "messages = dataset[0]['messages']\n",
    "convo = tokenizer.apply_chat_template(messages, tokenize=False)"
   ]
  },
  {
   "cell_type": "code",
   "execution_count": 14,
   "id": "0dcefe36-46fb-4c2e-9fe7-ea510133b04a",
   "metadata": {},
   "outputs": [
    {
     "data": {
      "application/vnd.jupyter.widget-view+json": {
       "model_id": "9c41f01ec0bb405290d612d3889d7b7b",
       "version_major": 2,
       "version_minor": 0
      },
      "text/plain": [
       "tokenizer_config.json: 0.00B [00:00, ?B/s]"
      ]
     },
     "metadata": {},
     "output_type": "display_data"
    },
    {
     "data": {
      "application/vnd.jupyter.widget-view+json": {
       "model_id": "4eb2d80bb7974896b60f66eb2abe76ad",
       "version_major": 2,
       "version_minor": 0
      },
      "text/plain": [
       "tokenizer.json:   0%|          | 0.00/27.9M [00:00<?, ?B/s]"
      ]
     },
     "metadata": {},
     "output_type": "display_data"
    },
    {
     "data": {
      "application/vnd.jupyter.widget-view+json": {
       "model_id": "589590d992a342ada79681dc0dc49652",
       "version_major": 2,
       "version_minor": 0
      },
      "text/plain": [
       "special_tokens_map.json:   0%|          | 0.00/98.0 [00:00<?, ?B/s]"
      ]
     },
     "metadata": {},
     "output_type": "display_data"
    },
    {
     "data": {
      "application/vnd.jupyter.widget-view+json": {
       "model_id": "b5d58b9c27d94a478a2c1d9957f820a0",
       "version_major": 2,
       "version_minor": 0
      },
      "text/plain": [
       "chat_template.jinja: 0.00B [00:00, ?B/s]"
      ]
     },
     "metadata": {},
     "output_type": "display_data"
    }
   ],
   "source": [
    "tokenizer = AutoTokenizer.from_pretrained(\"openai/gpt-oss-20b\")"
   ]
  },
  {
   "cell_type": "code",
   "execution_count": 19,
   "id": "057e3098-c256-40a6-9ee5-5389322c8aac",
   "metadata": {},
   "outputs": [
    {
     "data": {
      "text/plain": [
       "'<|start|>system<|message|>You are ChatGPT, a large language model trained by OpenAI.\\nKnowledge cutoff: 2024-06\\nCurrent date: 2025-08-24\\n\\nReasoning: medium\\n\\n# Valid channels: analysis, commentary, final. Channel must be included for every message.<|end|><|start|>developer<|message|># Instructions\\n\\nYou are a mathematician who is specialized in linear algebra and also statistics.\\n\\n<|end|><|start|>user<|message|>What is a vector space in linear algebra?<|end|><|start|>assistant<|channel|>final<|message|>A vector space is a collection of vectors where you can add them together and multiply them by scalars, following specific rules.<|return|>'"
      ]
     },
     "execution_count": 19,
     "metadata": {},
     "output_type": "execute_result"
    }
   ],
   "source": [
    "convo"
   ]
  },
  {
   "cell_type": "code",
   "execution_count": null,
   "id": "d7c7ef3a-e6b9-4b91-a1b8-afcf17b21f17",
   "metadata": {},
   "outputs": [],
   "source": []
  },
  {
   "cell_type": "code",
   "execution_count": null,
   "id": "882ff9f1-5cf3-4542-a5f6-357cfd777f78",
   "metadata": {},
   "outputs": [],
   "source": []
  }
 ],
 "metadata": {
  "kernelspec": {
   "display_name": "Python 3 (ipykernel)",
   "language": "python",
   "name": "python3"
  },
  "language_info": {
   "codemirror_mode": {
    "name": "ipython",
    "version": 3
   },
   "file_extension": ".py",
   "mimetype": "text/x-python",
   "name": "python",
   "nbconvert_exporter": "python",
   "pygments_lexer": "ipython3",
   "version": "3.12.11"
  }
 },
 "nbformat": 4,
 "nbformat_minor": 5
}
