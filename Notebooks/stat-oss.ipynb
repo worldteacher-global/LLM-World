{
 "cells": [
  {
   "cell_type": "code",
   "execution_count": 2,
   "id": "550ec21b-1dab-4996-af27-34664b542e0b",
   "metadata": {},
   "outputs": [],
   "source": [
    "from datasets import load_dataset"
   ]
  },
  {
   "cell_type": "code",
   "execution_count": 11,
   "id": "faf1485d-1f40-41f0-9308-d4d60705cbd7",
   "metadata": {},
   "outputs": [],
   "source": [
    "dataset = load_dataset(\"json\", data_files=\"/app/Files/training_set.jsonl\", split=\"train\")"
   ]
  },
  {
   "cell_type": "code",
   "execution_count": 12,
   "id": "9e7810fe-728a-41f2-add2-8abac21450f3",
   "metadata": {},
   "outputs": [
    {
     "data": {
      "text/plain": [
       "{'messages': [{'role': 'system',\n",
       "   'content': 'You are a mathematician who is specialized in linear algebra and also statistics.'},\n",
       "  {'role': 'user', 'content': 'What is a vector space in linear algebra?'},\n",
       "  {'role': 'assistant',\n",
       "   'content': 'A vector space is a collection of vectors where you can add them together and multiply them by scalars, following specific rules.'}]}"
      ]
     },
     "execution_count": 12,
     "metadata": {},
     "output_type": "execute_result"
    }
   ],
   "source": [
    "\n",
    "dataset[0]"
   ]
  },
  {
   "cell_type": "code",
   "execution_count": null,
   "id": "26e8c4bb-da94-4484-b291-274d701d7077",
   "metadata": {},
   "outputs": [],
   "source": []
  }
 ],
 "metadata": {
  "kernelspec": {
   "display_name": "Python 3 (ipykernel)",
   "language": "python",
   "name": "python3"
  },
  "language_info": {
   "codemirror_mode": {
    "name": "ipython",
    "version": 3
   },
   "file_extension": ".py",
   "mimetype": "text/x-python",
   "name": "python",
   "nbconvert_exporter": "python",
   "pygments_lexer": "ipython3",
   "version": "3.12.11"
  }
 },
 "nbformat": 4,
 "nbformat_minor": 5
}
