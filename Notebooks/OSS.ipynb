{
 "cells": [
  {
   "cell_type": "raw",
   "metadata": {
    "vscode": {
     "languageId": "raw"
    }
   },
   "source": [
    "https://github.com/openai/gpt-oss"
   ]
  },
  {
   "cell_type": "markdown",
   "metadata": {},
   "source": [
    "# Inference with pipeline"
   ]
  },
  {
   "cell_type": "code",
   "execution_count": 1,
   "metadata": {},
   "outputs": [
    {
     "name": "stderr",
     "output_type": "stream",
     "text": [
      "/mnt/custom-file-systems/efs/fs-0252e317d4af1dc34_fsap-0a708b50be80889d5/CLONED_REPOS/LLM-World/llmenv/lib/python3.12/site-packages/tqdm/auto.py:21: TqdmWarning: IProgress not found. Please update jupyter and ipywidgets. See https://ipywidgets.readthedocs.io/en/stable/user_install.html\n",
      "  from .autonotebook import tqdm as notebook_tqdm\n"
     ]
    }
   ],
   "source": [
    "from transformers import pipeline"
   ]
  },
  {
   "cell_type": "code",
   "execution_count": 2,
   "metadata": {},
   "outputs": [
    {
     "name": "stderr",
     "output_type": "stream",
     "text": [
      "Fetching 3 files: 100%|██████████| 3/3 [02:43<00:00, 54.54s/it] \n",
      "Fetching 40 files: 100%|██████████| 40/40 [00:00<00:00, 148.24it/s]\n",
      "Loading checkpoint shards: 100%|██████████| 3/3 [02:05<00:00, 41.92s/it]\n",
      "Device set to use cuda:0\n"
     ]
    }
   ],
   "source": [
    "\n",
    "pipe = pipeline(\n",
    "    'text-generation', # Tells the pipeline we would like to generate text\n",
    "    model='openai/gpt-oss-20b', # specifies the model\n",
    "    torch_dtype='auto', # data type the model uses in PyTorch\n",
    "    device_map='auto') # maps the model to a device\n",
    "\n",
    "messages = [{'role':'user', 'content':'Explain what mixture-of-experts is'}]\n",
    "\n",
    "ouput = pipe(messages,\n",
    " max_new_tokens=200, # number of tokens the model will generate (output length)\n",
    " temperature=1.0) # 1 = baseline randomness in token selection"
   ]
  },
  {
   "cell_type": "code",
   "execution_count": 3,
   "metadata": {},
   "outputs": [
    {
     "data": {
      "text/plain": [
       "[{'generated_text': [{'role': 'user',\n",
       "    'content': 'Explain what mixture-of-experts is'},\n",
       "   {'role': 'assistant',\n",
       "    'content': 'analysisThe user asks: \"Explain what mixture-of-experts is\". We need to respond with an explanation. Provide a clear definition, context, usage, benefits, drawbacks, and possibly reference applications, especially in machine learning and deep learning.\\n\\nWe should explain conceptually: mixture of experts (MoE) is a type of ensemble learning model that uses a gating network to choose among several expert models. Provide background, the general architecture, how gating network works, training objectives. Examples: mixture models, mixture of logistic regressions, mixture of neural networks, mixture-of-experts layer in transformers.\\n\\nMention that MoE is used in large-scale language models for scaling with sparsity, e.g., GShard, Switch Transformers. Also mention that MoE reduces computation by activating only a subset of experts per input.\\n\\nDiscuss issues: load balancing, training inefficiencies, memory. Mention training strategies: token-based gating, update on active experts only, etc.\\n\\nExplain differences: hard vs soft gating,'}]}]"
      ]
     },
     "execution_count": 3,
     "metadata": {},
     "output_type": "execute_result"
    }
   ],
   "source": [
    "ouput"
   ]
  },
  {
   "cell_type": "code",
   "execution_count": 5,
   "metadata": {},
   "outputs": [
    {
     "data": {
      "text/plain": [
       "dict_keys(['generated_text'])"
      ]
     },
     "execution_count": 5,
     "metadata": {},
     "output_type": "execute_result"
    }
   ],
   "source": [
    "ouput[0].keys()"
   ]
  },
  {
   "cell_type": "code",
   "execution_count": 6,
   "metadata": {},
   "outputs": [
    {
     "data": {
      "text/plain": [
       "[{'role': 'user', 'content': 'Explain what mixture-of-experts is'},\n",
       " {'role': 'assistant',\n",
       "  'content': 'analysisThe user asks: \"Explain what mixture-of-experts is\". We need to respond with an explanation. Provide a clear definition, context, usage, benefits, drawbacks, and possibly reference applications, especially in machine learning and deep learning.\\n\\nWe should explain conceptually: mixture of experts (MoE) is a type of ensemble learning model that uses a gating network to choose among several expert models. Provide background, the general architecture, how gating network works, training objectives. Examples: mixture models, mixture of logistic regressions, mixture of neural networks, mixture-of-experts layer in transformers.\\n\\nMention that MoE is used in large-scale language models for scaling with sparsity, e.g., GShard, Switch Transformers. Also mention that MoE reduces computation by activating only a subset of experts per input.\\n\\nDiscuss issues: load balancing, training inefficiencies, memory. Mention training strategies: token-based gating, update on active experts only, etc.\\n\\nExplain differences: hard vs soft gating,'}]"
      ]
     },
     "execution_count": 6,
     "metadata": {},
     "output_type": "execute_result"
    }
   ],
   "source": [
    "ouput[0]['generated_text']"
   ]
  },
  {
   "cell_type": "code",
   "execution_count": 8,
   "metadata": {},
   "outputs": [
    {
     "data": {
      "text/plain": [
       "dict_keys(['role', 'content'])"
      ]
     },
     "execution_count": 8,
     "metadata": {},
     "output_type": "execute_result"
    }
   ],
   "source": [
    "ouput[0]['generated_text'][0].keys()"
   ]
  },
  {
   "cell_type": "code",
   "execution_count": 19,
   "metadata": {},
   "outputs": [
    {
     "name": "stdout",
     "output_type": "stream",
     "text": [
      "user\n",
      "Explain what mixture-of-experts is\n"
     ]
    }
   ],
   "source": [
    "print(ouput[0]['generated_text'][0]['role'])\n",
    "print(ouput[0]['generated_text'][0]['content'])\n"
   ]
  },
  {
   "cell_type": "code",
   "execution_count": 21,
   "metadata": {},
   "outputs": [
    {
     "name": "stdout",
     "output_type": "stream",
     "text": [
      "assistant\n",
      "analysisThe user asks: \"Explain what mixture-of-experts is\". We need to respond with an explanation. Provide a clear definition, context, usage, benefits, drawbacks, and possibly reference applications, especially in machine learning and deep learning.\n",
      "\n",
      "We should explain conceptually: mixture of experts (MoE) is a type of ensemble learning model that uses a gating network to choose among several expert models. Provide background, the general architecture, how gating network works, training objectives. Examples: mixture models, mixture of logistic regressions, mixture of neural networks, mixture-of-experts layer in transformers.\n",
      "\n",
      "Mention that MoE is used in large-scale language models for scaling with sparsity, e.g., GShard, Switch Transformers. Also mention that MoE reduces computation by activating only a subset of experts per input.\n",
      "\n",
      "Discuss issues: load balancing, training inefficiencies, memory. Mention training strategies: token-based gating, update on active experts only, etc.\n",
      "\n",
      "Explain differences: hard vs soft gating,\n"
     ]
    }
   ],
   "source": [
    "print(ouput[0]['generated_text'][1]['role'])\n",
    "print(ouput[0]['generated_text'][1]['content'])\n"
   ]
  },
  {
   "cell_type": "code",
   "execution_count": null,
   "metadata": {},
   "outputs": [],
   "source": []
  }
 ],
 "metadata": {
  "kernelspec": {
   "display_name": "myenv",
   "language": "python",
   "name": "python3"
  },
  "language_info": {
   "codemirror_mode": {
    "name": "ipython",
    "version": 3
   },
   "file_extension": ".py",
   "mimetype": "text/x-python",
   "name": "python",
   "nbconvert_exporter": "python",
   "pygments_lexer": "ipython3",
   "version": "3.12.9"
  }
 },
 "nbformat": 4,
 "nbformat_minor": 2
}
