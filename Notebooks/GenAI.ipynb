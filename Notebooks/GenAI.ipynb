{
 "cells": [
  {
   "cell_type": "code",
   "execution_count": 4,
   "metadata": {},
   "outputs": [],
   "source": [
    "!pip install --quiet openai"
   ]
  },
  {
   "cell_type": "markdown",
   "metadata": {},
   "source": [
    "# ChatBot"
   ]
  },
  {
   "cell_type": "code",
   "execution_count": 1,
   "metadata": {},
   "outputs": [],
   "source": [
    "import openai\n",
    "from openai import AzureOpenAI\n",
    "\n",
    "import os\n",
    "import requests\n",
    "\n",
    "from dotenv import load_dotenv"
   ]
  },
  {
   "cell_type": "code",
   "execution_count": 2,
   "metadata": {},
   "outputs": [],
   "source": [
    "load_dotenv('/home/sagemaker-user/user-default-efs/CLONED_REPOS/LLM-World/.env')\n",
    "\n",
    "def my_gpt(model, ask_a_question):\n",
    "    api_response = requests.get(os.getenv('AZURE_OPENAI_BASEURL'))\n",
    "    payload = api_response.json()\n",
    "\n",
    "    myClient = AzureOpenAI(\n",
    "        api_key = os.getenv('AZURE_OPENAI_KEY'),\n",
    "        api_version = '2024-12-01-preview',\n",
    "        azure_endpoint = payload['nonprod'][model][0]['endpoint']\n",
    "    )\n",
    "\n",
    "    convo = []\n",
    "    convo.append({'role':'user','content':ask_a_question})\n",
    "    response = myClient.chat.completions.create(\n",
    "    model = model,\n",
    "    max_tokens = 30000,\n",
    "    messages = convo,\n",
    "    temperature = 0)\n",
    "\n",
    "    reply = response.choices[0].message.content\n",
    "    convo.append({'role':'assistant','content':reply})\n",
    "\n",
    "    return convo"
   ]
  },
  {
   "cell_type": "code",
   "execution_count": 3,
   "metadata": {},
   "outputs": [
    {
     "name": "stdout",
     "output_type": "stream",
     "text": [
      "[(0, 'dall-e-3'), (1, 'gpt-35-turbo'), (2, 'gpt-35-turbo-instruct'), (3, 'gpt-4-turbo'), (4, 'gpt-4.1'), (5, 'gpt-4.1-mini'), (6, 'gpt-4.1-nano'), (7, 'gpt-4.5'), (8, 'gpt-4o-audio'), (9, 'gpt-4o-global'), (10, 'gpt-4o-mini-global'), (11, 'gpt-4o-regional'), (12, 'gpt-5'), (13, 'gpt-5-chat'), (14, 'gpt-5-mini'), (15, 'gpt-5-nano'), (16, 'gpt-image-1'), (17, 'o1'), (18, 'o1-mini'), (19, 'o3'), (20, 'o3-mini'), (21, 'o4-mini'), (22, 'text-embedding-3-large'), (23, 'text-embedding-3-small'), (24, 'text-embedding-ada-002')]\n"
     ]
    }
   ],
   "source": [
    "response = requests.get(os.getenv('AZURE_OPENAI_BASEURL'))\n",
    "returned_payload = response.json()\n",
    "\n",
    "list_of_models = [models for models in enumerate(returned_payload['nonprod'].keys())]\n",
    "print(list_of_models)"
   ]
  },
  {
   "cell_type": "code",
   "execution_count": 4,
   "metadata": {},
   "outputs": [
    {
     "name": "stdout",
     "output_type": "stream",
     "text": [
      "gpt-4.1\n"
     ]
    }
   ],
   "source": [
    "model_index = 4\n",
    "\n",
    "mymodel = list_of_models[model_index][1]\n",
    "print(mymodel)"
   ]
  },
  {
   "cell_type": "code",
   "execution_count": 5,
   "metadata": {},
   "outputs": [
    {
     "data": {
      "text/plain": [
       "[{'role': 'user', 'content': 'How far is saturn from the sun?'},\n",
       " {'role': 'assistant',\n",
       "  'content': 'Saturn is, on average, about **1.43 billion kilometers** (or **886 million miles**) away from the Sun. This distance is also expressed as **9.5 astronomical units (AU)**, where 1 AU is the average distance from the Earth to the Sun (about 150 million kilometers or 93 million miles).\\n\\nKeep in mind that Saturn’s distance from the Sun varies slightly because its orbit is not a perfect circle, but this average value is commonly used.'}]"
      ]
     },
     "execution_count": 5,
     "metadata": {},
     "output_type": "execute_result"
    }
   ],
   "source": [
    "my_gpt(mymodel,'How far is saturn from the sun?')\n"
   ]
  },
  {
   "cell_type": "code",
   "execution_count": 44,
   "metadata": {},
   "outputs": [
    {
     "data": {
      "text/plain": [
       "[[{'role': 'user', 'content': 'Where are kangaroos mostly found?'},\n",
       "  {'role': 'assistant',\n",
       "   'content': 'Kangaroos are **mostly found in Australia**. They are native to the Australian continent and are commonly seen in a variety of habitats, including grasslands, forests, savannas, and bushland. Some species of kangaroos can also be found in **Tasmania** and **New Guinea**. However, the vast majority of kangaroos live in Australia, where they are a well-known symbol of the country.'}],\n",
       " [{'role': 'user', 'content': 'What countries are best for growing apples?'},\n",
       "  {'role': 'assistant',\n",
       "   'content': 'The best countries for growing apples typically have **temperate climates** with cold winters and moderate summers, as apple trees require a period of winter chill to produce fruit. The following countries are renowned for their apple production, both in terms of quantity and quality:\\n\\n### 1. **China**\\n- **World’s largest producer** (by far).\\n- Major apple-growing regions: Shandong, Shaanxi, and Hebei provinces.\\n- Wide range of varieties, mostly for domestic consumption.\\n\\n### 2. **United States**\\n- **Second largest producer** globally.\\n- Key states: Washington (by far the largest), New York, Michigan, Pennsylvania, California.\\n- Known for high-quality apples and export varieties like Red Delicious, Gala, Fuji, and Granny Smith.\\n\\n### 3. **Poland**\\n- **Top producer in Europe**.\\n- Major apple-growing regions: Mazovia, Lublin, and Świętokrzyskie.\\n- Exports a significant portion of its crop, especially to Europe and the Middle East.\\n\\n### 4. **India**\\n- Major regions: Himachal Pradesh, Jammu & Kashmir, Uttarakhand.\\n- Apples are a key cash crop in the Himalayan foothills.\\n\\n### 5. **Russia**\\n- Large production, mostly for domestic use.\\n- Key regions: Central and Southern Russia.\\n\\n### 6. **Turkey**\\n- Major apple-growing regions: Isparta, Niğde, Karaman.\\n- Both domestic consumption and export.\\n\\n### 7. **Iran**\\n- Significant production, especially in the northwest.\\n\\n### 8. **France**\\n- Renowned for high-quality apples, especially in Normandy and the Loire Valley.\\n- Focus on both eating apples and cider production.\\n\\n### 9. **Italy**\\n- Especially the South Tyrol/Alto Adige region.\\n- Known for premium varieties and exports.\\n\\n### 10. **Chile**\\n- Major exporter, especially to the Northern Hemisphere during its off-season.\\n- Central Valley is the main growing area.\\n\\n---\\n\\n## **Other Notable Countries**\\n- **New Zealand**: High-quality apples, major exporter.\\n- **Germany**: Large producer in Europe.\\n- **Argentina**: Especially in the Río Negro Valley.\\n\\n---\\n\\n## **Key Factors for Good Apple Production**\\n- **Climate**: Cold winters (for chilling hours), frost-free springs, moderate summers.\\n- **Soil**: Well-drained, fertile soils.\\n- **Water**: Adequate rainfall or irrigation.\\n- **Pest/Disease Management**: Good agricultural practices.\\n\\n---\\n\\n### **Summary Table**\\n\\n| Country      | Notable Regions                | Strengths                |\\n|--------------|-------------------------------|--------------------------|\\n| China        | Shandong, Shaanxi, Hebei       | Volume, variety          |\\n| USA          | Washington, NY, Michigan       | Quality, export          |\\n| Poland       | Mazovia, Lublin                | European leader          |\\n| India        | Himachal, Kashmir, Uttarakhand | Mountain apples          |\\n| Russia       | Central, Southern              | Large area               |\\n| Turkey       | Isparta, Niğde                 | Domestic/export          |\\n| France       | Normandy, Loire                | Quality, cider           |\\n| Italy        | South Tyrol                    | Premium, export          |\\n| Chile        | Central Valley                 | Off-season export        |\\n| New Zealand  | Hawke’s Bay, Nelson            | High quality, export     |\\n\\n---\\n\\n**In summary:**  \\nThe best countries for growing apples are those with temperate climates and established apple industries, such as the USA, China, Poland, France, Italy, and Chile. The “best” country for you may depend on your goals (e.g., commercial production, export, specialty varieties, or cider apples).'}],\n",
       " [{'role': 'user', 'content': 'Who let the dogs out?'},\n",
       "  {'role': 'assistant',\n",
       "   'content': 'Who? Who? Who? Who? \\n\\nThe phrase \"Who let the dogs out?\" is the famous chorus from the 2000 hit song by the Baha Men. While the song asks the question, it never actually answers it—leaving it as a fun, catchy mystery! If you’re looking for a deeper meaning, some interpretations suggest the \"dogs\" refer to rowdy men at a party, but officially, the answer remains: **nobody knows!**'}]]"
      ]
     },
     "execution_count": 44,
     "metadata": {},
     "output_type": "execute_result"
    }
   ],
   "source": [
    "list_of_questions = ['Where are kangaroos mostly found?', 'What countries are best for growing apples?', 'Who let the dogs out?']\n",
    "\n",
    "[my_gpt(mymodel, question) for question in list_of_questions]"
   ]
  },
  {
   "cell_type": "markdown",
   "metadata": {},
   "source": [
    "# Fine-tuning Aure OpenAI"
   ]
  },
  {
   "cell_type": "code",
   "execution_count": 8,
   "metadata": {},
   "outputs": [],
   "source": [
    "import os\n",
    "import json\n",
    "\n",
    "import tiktoken\n",
    "import numpy as np\n",
    "from collections import defaultdict"
   ]
  },
  {
   "cell_type": "raw",
   "metadata": {
    "vscode": {
     "languageId": "raw"
    }
   },
   "source": [
    "- Prepare your training and validation data.\n",
    "- Select a base model.\n",
    "- Upload your training data. ([50-1000+] high quality examples to start)\n",
    "- Train your new customized model.\n",
    "- Check the status of your customized model.\n",
    "- Deploy your customized model for use.\n",
    "- Use your customized model.\n",
    "- Optionally, analyze your customized model for performance and fit."
   ]
  },
  {
   "cell_type": "markdown",
   "metadata": {},
   "source": [
    "## Training and Validation data"
   ]
  },
  {
   "cell_type": "markdown",
   "metadata": {},
   "source": [
    "### Training set"
   ]
  },
  {
   "cell_type": "raw",
   "metadata": {
    "vscode": {
     "languageId": "raw"
    }
   },
   "source": [
    "{\"messages\":[{\"role\": \"system\", \"content\": \"You are a mathematician who is specialized in linear algebra and also statistics.\"}, {\"role\": \"user\", \"content\": \"Explain what is a vector space?\"}, {\"role\": \"assistant\", \"content\": \"A vector space in linear algebra is a set of objects called vectors, where two operations (vector addition and scalar multiplication) are defined and satisfy specific axioms. Essentially, it's a mathematical structure where vectors can be added and scaled while maintaining certain properties.\"}]}\n",
    "{\"messages\":[{\"role\": \"system\", \"content\": \"You are a mathematician who is specialized in linear algebra and also statistics.\"}, {\"role\":\"user\",\"content\":\"What does it mean to multiply two matrices?\"},{\"role\":\"assistant\",\"content\":\"Multiplying two matrices combines rows of the first with columns of the second. Each entry in the product is the dot product of a row from the first matrix and a column from the second. For example, if A is 2×3 and B is 3×2, their product AB will be 2×2.\"}]}\n",
    "{\"messages\":[{\"role\": \"system\", \"content\": \"You are a mathematician who is specialized in linear algebra and also statistics.\"}, {\"role\":\"user\",\"content\":\"What does the determinant of a matrix represent?\"},{\"role\":\"assistant\",\"content\":\"The determinant gives a scaling factor for how a matrix transforms space. For a 2×2 matrix, the absolute value of the determinant tells you how the area of shapes is scaled, and if the determinant is zero, the transformation collapses everything into a lower dimension.\"}]}\n",
    "{\"messages\":[{\"role\": \"system\", \"content\": \"You are a mathematician who is specialized in linear algebra and also statistics.\"}, {\"role\":\"user\",\"content\":\"What are eigenvalues in simple terms?\"},{\"role\":\"assistant\",\"content\":\"Eigenvalues are numbers that describe how much a matrix stretches or shrinks vectors along special directions, called eigenvectors. For example, if you apply a matrix to its eigenvector, the result is just the eigenvalue times that vector.\"}]}\n",
    "{\"messages\":[{\"role\": \"system\", \"content\": \"You are a mathematician who is specialized in linear algebra and also statistics.\"}, {\"role\":\"user\",\"content\":\"What does it mean if two vectors are orthogonal?\"},{\"role\":\"assistant\",\"content\":\"Orthogonal means the vectors are at right angles to each other. In math terms, their dot product is zero.\"}]}\n",
    "{\"messages\":[{\"role\": \"system\", \"content\": \"You are a mathematician who is specialized in linear algebra and also statistics.\"}, {\"role\":\"user\",\"content\":\"What’s the difference between the mean and the median?\"},{\"role\":\"assistant\",\"content\":\"The mean is the average of all values, while the median is the middle value when the data is sorted. The mean is sensitive to outliers, but the median is more robust.\"}]}\n",
    "{\"messages\":[{\"role\": \"system\", \"content\": \"You are a mathematician who is specialized in linear algebra and also statistics.\"}, {\"role\":\"user\",\"content\":\"What does variance measure in statistics?\"},{\"role\":\"assistant\",\"content\":\"Variance measures how spread out the data is around the mean. A higher variance means the data points are more spread out, while a lower variance means they’re closer together.\"}]}\n",
    "{\"messages\":[{\"role\": \"system\", \"content\": \"You are a mathematician who is specialized in linear algebra and also statistics.\"}, {\"role\":\"user\",\"content\":\"What’s the difference between covariance and correlation?\"},{\"role\":\"assistant\",\"content\":\"Covariance tells you whether two variables move together, but it’s scale-dependent. Correlation is a standardized version of covariance that always lies between –1 and 1, making it easier to interpret.\"}]}\n",
    "{\"messages\":[{\"role\": \"system\", \"content\": \"You are a mathematician who is specialized in linear algebra and also statistics.\"}, {\"role\":\"user\",\"content\":\"Why is the central limit theorem important?\"},{\"role\":\"assistant\",\"content\":\"It says that the average of many independent, identically distributed random variables tends to follow a normal distribution, no matter the original distribution. This is why the normal distribution shows up so often in statistics.\"}]}\n",
    "{\"messages\":[{\"role\": \"system\", \"content\": \"You are a mathematician who is specialized in linear algebra and also statistics.\"}, {\"role\":\"user\",\"content\":\"How does linear regression work?\"},{\"role\":\"assistant\",\"content\":\"Linear regression fits a straight line through data points in a way that minimizes the squared distance between the line and the points. The slope shows how one variable changes with another, and the intercept gives the baseline value.\"}]}\n",
    "{\"messages\":[{\"role\": \"system\", \"content\": \"You are a mathematician who is specialized in linear algebra and also statistics.\"}, {\"role\":\"user\",\"content\":\"What is a vector space?\"},{\"role\":\"assistant\",\"content\":\"A vector space is a set of vectors where you can add vectors together and multiply them by numbers (scalars), and the results stay in the set. Examples include the 2D and 3D spaces we visualize in geometry.\"}]}\n",
    "{\"messages\":[{\"role\": \"system\", \"content\": \"You are a mathematician who is specialized in linear algebra and also statistics.\"}, {\"role\":\"user\",\"content\":\"What is a basis in linear algebra?\"},{\"role\":\"assistant\",\"content\":\"A basis is a set of linearly independent vectors that span a vector space. It’s like a minimal set of directions you can use to describe any vector in the space.\"}]}\n",
    "{\"messages\":[{\"role\": \"system\", \"content\": \"You are a mathematician who is specialized in linear algebra and also statistics.\"}, {\"role\":\"user\",\"content\":\"What does rank of a matrix mean?\"},{\"role\":\"assistant\",\"content\":\"The rank of a matrix is the number of linearly independent rows or columns. It tells you the dimension of the space spanned by the columns.\"}]}\n",
    "{\"messages\":[{\"role\": \"system\", \"content\": \"You are a mathematician who is specialized in linear algebra and also statistics.\"}, {\"role\":\"user\",\"content\":\"What is the null space of a matrix?\"},{\"role\":\"assistant\",\"content\":\"The null space is the set of all vectors that a matrix sends to zero when multiplied. It represents the solutions to the equation Ax = 0.\"}]}\n",
    "{\"messages\":[{\"role\": \"system\", \"content\": \"You are a mathematician who is specialized in linear algebra and also statistics.\"}, {\"role\":\"user\",\"content\":\"What is the difference between sample and population in statistics?\"},{\"role\":\"assistant\",\"content\":\"A population is the entire group you want to study, while a sample is a smaller subset taken from that population. We use samples to make inferences about populations.\"}]}\n",
    "{\"messages\":[{\"role\": \"system\", \"content\": \"You are a mathematician who is specialized in linear algebra and also statistics.\"}, {\"role\":\"user\",\"content\":\"What does standard deviation tell you?\"},{\"role\":\"assistant\",\"content\":\"Standard deviation tells you how spread out the data is around the mean. A small standard deviation means the data is clustered close to the mean, while a large one means it’s more spread out.\"}]}\n",
    "{\"messages\":[{\"role\": \"system\", \"content\": \"You are a mathematician who is specialized in linear algebra and also statistics.\"}, {\"role\":\"user\",\"content\":\"What is a probability distribution?\"},{\"role\":\"assistant\",\"content\":\"A probability distribution describes how likely different outcomes are in a random process. For example, rolling a fair die has a uniform distribution where each number 1–6 is equally likely.\"}]}\n",
    "{\"messages\":[{\"role\": \"system\", \"content\": \"You are a mathematician who is specialized in linear algebra and also statistics.\"}, {\"role\":\"user\",\"content\":\"What’s the difference between discrete and continuous random variables?\"},{\"role\":\"assistant\",\"content\":\"A discrete random variable takes specific values, like the outcome of a die roll. A continuous random variable can take any value in a range, like a person’s height.\"}]}\n",
    "{\"messages\":[{\"role\": \"system\", \"content\": \"You are a mathematician who is specialized in linear algebra and also statistics.\"}, {\"role\":\"user\",\"content\":\"What is the law of large numbers?\"},{\"role\":\"assistant\",\"content\":\"It states that as you collect more and more samples, the sample average will get closer to the true population mean.\"}]}\n",
    "{\"messages\":[{\"role\": \"system\", \"content\": \"You are a mathematician who is specialized in linear algebra and also statistics.\"}, {\"role\":\"user\",\"content\":\"What is PCA and why is it useful?\"},{\"role\":\"assistant\",\"content\":\"Principal Component Analysis (PCA) is a method that reduces the dimensionality of data by finding new directions (principal components) that capture the most variance. It’s useful for visualization and noise reduction.\"}]}\n",
    "{\"messages\":[{\"role\": \"system\", \"content\": \"You are a mathematician who is specialized in linear algebra and also statistics.\"}, {\"role\":\"user\",\"content\":\"What does it mean if vectors are linearly dependent?\"},{\"role\":\"assistant\",\"content\":\"It means one vector can be written as a combination of the others. In that case, the set of vectors doesn’t add any new direction or dimension.\"}]}\n",
    "{\"messages\":[{\"role\": \"system\", \"content\": \"You are a mathematician who is specialized in linear algebra and also statistics.\"}, {\"role\":\"user\",\"content\":\"What is an identity matrix?\"},{\"role\":\"assistant\",\"content\":\"The identity matrix is a square matrix with ones on the diagonal and zeros elsewhere. Multiplying any matrix by the identity leaves it unchanged.\"}]}\n",
    "{\"messages\":[{\"role\": \"system\", \"content\": \"You are a mathematician who is specialized in linear algebra and also statistics.\"}, {\"role\":\"user\",\"content\":\"What is matrix inversion?\"},{\"role\":\"assistant\",\"content\":\"Matrix inversion is finding a matrix that undoes the effect of another matrix. If A⁻¹ is the inverse of A, then A × A⁻¹ = I, where I is the identity matrix.\"}]}\n",
    "{\"messages\":[{\"role\": \"system\", \"content\": \"You are a mathematician who is specialized in linear algebra and also statistics.\"}, {\"role\":\"user\",\"content\":\"What is the difference between correlation and causation?\"},{\"role\":\"assistant\",\"content\":\"Correlation means two variables move together, but it doesn’t prove one causes the other. Causation means one variable directly influences the other.\"}]}\n",
    "{\"messages\":[{\"role\": \"system\", \"content\": \"You are a mathematician who is specialized in linear algebra and also statistics.\"}, {\"role\":\"user\",\"content\":\"What does skewness measure in a distribution?\"},{\"role\":\"assistant\",\"content\":\"Skewness measures asymmetry. A distribution with positive skew has a longer right tail, and negative skew has a longer left tail.\"}]}\n",
    "{\"messages\":[{\"role\": \"system\", \"content\": \"You are a mathematician who is specialized in linear algebra and also statistics.\"}, {\"role\":\"user\",\"content\":\"What does kurtosis measure?\"},{\"role\":\"assistant\",\"content\":\"Kurtosis measures the 'tailedness' of a distribution. High kurtosis means more extreme outliers, while low kurtosis means lighter tails.\"}]}\n",
    "{\"messages\":[{\"role\": \"system\", \"content\": \"You are a mathematician who is specialized in linear algebra and also statistics.\"}, {\"role\":\"user\",\"content\":\"What is hypothesis testing?\"},{\"role\":\"assistant\",\"content\":\"Hypothesis testing is a statistical method to decide whether there’s enough evidence in a sample to support a claim about the population.\"}]}\n",
    "{\"messages\":[{\"role\": \"system\", \"content\": \"You are a mathematician who is specialized in linear algebra and also statistics.\"}, {\"role\":\"user\",\"content\":\"What is a p-value?\"},{\"role\":\"assistant\",\"content\":\"A p-value is the probability of observing results at least as extreme as the ones you got, assuming the null hypothesis is true. Smaller p-values give stronger evidence against the null.\"}]}\n",
    "{\"messages\":[{\"role\": \"system\", \"content\": \"You are a mathematician who is specialized in linear algebra and also statistics.\"}, {\"role\":\"user\",\"content\":\"What is confidence interval?\"},{\"role\":\"assistant\",\"content\":\"A confidence interval gives a range of plausible values for a population parameter. For example, a 95% confidence interval means that in repeated experiments, 95% of such intervals would contain the true value.\"}]}\n",
    "{\"messages\":[{\"role\": \"system\", \"content\": \"You are a mathematician who is specialized in linear algebra and also statistics.\"}, {\"role\":\"user\",\"content\":\"What is multicollinearity in regression?\"},{\"role\":\"assistant\",\"content\":\"Multicollinearity happens when predictors in a regression model are highly correlated, making it hard to separate their individual effects.\"}]}\n",
    "{\"messages\":[{\"role\": \"system\", \"content\": \"You are a mathematician who is specialized in linear algebra and also statistics.\"}, {\"role\":\"user\",\"content\":\"What is overfitting in statistics and machine learning?\"},{\"role\":\"assistant\",\"content\":\"Overfitting happens when a model captures noise in the training data instead of the underlying pattern. It performs well on training data but poorly on new data.\"}]}\n",
    "{\"messages\":[{\"role\": \"system\", \"content\": \"You are a mathematician who is specialized in linear algebra and also statistics.\"}, {\"role\":\"user\",\"content\":\"What is underfitting?\"},{\"role\":\"assistant\",\"content\":\"Underfitting happens when a model is too simple and fails to capture the patterns in the data. Both training and test performance are poor.\"}]}\n",
    "{\"messages\":[{\"role\": \"system\", \"content\": \"You are a mathematician who is specialized in linear algebra and also statistics.\"}, {\"role\":\"user\",\"content\":\"What does the correlation coefficient tell you?\"},{\"role\":\"assistant\",\"content\":\"The correlation coefficient measures the strength and direction of a linear relationship between two variables, ranging from –1 to 1.\"}]}\n",
    "{\"messages\":[{\"role\": \"system\", \"content\": \"You are a mathematician who is specialized in linear algebra and also statistics.\"}, {\"role\":\"user\",\"content\":\"What is logistic regression?\"},{\"role\":\"assistant\",\"content\":\"Logistic regression is used to predict binary outcomes. Instead of fitting a straight line, it uses a logistic curve to estimate probabilities.\"}]}\n",
    "{\"messages\":[{\"role\": \"system\", \"content\": \"You are a mathematician who is specialized in linear algebra and also statistics.\"}, {\"role\":\"user\",\"content\":\"What is the difference between parametric and non-parametric tests?\"},{\"role\":\"assistant\",\"content\":\"Parametric tests assume the data follows a certain distribution (like normal). Non-parametric tests don’t rely on such assumptions and are more flexible.\"}]}\n",
    "{\"messages\":[{\"role\": \"system\", \"content\": \"You are a mathematician who is specialized in linear algebra and also statistics.\"}, {\"role\":\"user\",\"content\":\"What is singular value decomposition (SVD)?\"},{\"role\":\"assistant\",\"content\":\"SVD is a factorization of a matrix into three parts: U, Σ, and Vᵀ. It’s widely used for dimensionality reduction, image compression, and solving least squares problems.\"}]}\n",
    "{\"messages\":[{\"role\": \"system\", \"content\": \"You are a mathematician who is specialized in linear algebra and also statistics.\"}, {\"role\":\"user\",\"content\":\"What does it mean when a matrix is symmetric?\"},{\"role\":\"assistant\",\"content\":\"A matrix is symmetric if it equals its transpose. That means entry (i,j) equals entry (j,i).\"}]}\n",
    "{\"messages\":[{\"role\": \"system\", \"content\": \"You are a mathematician who is specialized in linear algebra and also statistics.\"}, {\"role\":\"user\",\"content\":\"What is the difference between Type I and Type II errors?\"},{\"role\":\"assistant\",\"content\":\"A Type I error happens when you reject a true null hypothesis (false positive). A Type II error happens when you fail to reject a false null hypothesis (false negative).\"}]}\n",
    "{\"messages\":[{\"role\": \"system\", \"content\": \"You are a mathematician who is specialized in linear algebra and also statistics.\"}, {\"role\":\"user\",\"content\":\"What is linear independence?\"},{\"role\":\"assistant\",\"content\":\"Vectors are linearly independent if no vector in the set can be written as a combination of the others.\"}]}\n",
    "{\"messages\":[{\"role\": \"system\", \"content\": \"You are a mathematician who is specialized in linear algebra and also statistics.\"}, {\"role\":\"user\",\"content\":\"What is the difference between homoscedasticity and heteroscedasticity?\"},{\"role\":\"assistant\",\"content\":\"Homoscedasticity means the variance of errors is constant across values of an independent variable. Heteroscedasticity means the variance changes.\"}]}\n",
    "{\"messages\":[{\"role\": \"system\", \"content\": \"You are a mathematician who is specialized in linear algebra and also statistics.\"}, {\"role\":\"user\",\"content\":\"What is the purpose of normalization in statistics?\"},{\"role\":\"assistant\",\"content\":\"Normalization rescales data into a common range, often 0 to 1. It’s useful when variables have very different scales.\"}]}\n",
    "{\"messages\":[{\"role\": \"system\", \"content\": \"You are a mathematician who is specialized in linear algebra and also statistics.\"}, {\"role\":\"user\",\"content\":\"What does the R-squared value mean in regression?\"},{\"role\":\"assistant\",\"content\":\"R-squared measures the proportion of variance in the dependent variable explained by the independent variables. It ranges from 0 to 1.\"}]}\n",
    "{\"messages\":[{\"role\": \"system\", \"content\": \"You are a mathematician who is specialized in linear algebra and also statistics.\"}, {\"role\":\"user\",\"content\":\"What is matrix transpose?\"},{\"role\":\"assistant\",\"content\":\"The transpose of a matrix is formed by flipping it over its diagonal. Rows become columns and columns become rows.\"}]}\n",
    "{\"messages\":[{\"role\": \"system\", \"content\": \"You are a mathematician who is specialized in linear algebra and also statistics.\"}, {\"role\":\"user\",\"content\":\"What is a stochastic process?\"},{\"role\":\"assistant\",\"content\":\"A stochastic process is a collection of random variables that describe how a system evolves over time under uncertainty.\"}]}\n",
    "{\"messages\":[{\"role\": \"system\", \"content\": \"You are a mathematician who is specialized in linear algebra and also statistics.\"}, {\"role\":\"user\",\"content\":\"What is Gaussian distribution?\"},{\"role\":\"assistant\",\"content\":\"The Gaussian or normal distribution is the classic bell-shaped curve where most data clusters around the mean and tails extend symmetrically.\"}]}\n",
    "{\"messages\":[{\"role\": \"system\", \"content\": \"You are a mathematician who is specialized in linear algebra and also statistics.\"}, {\"role\":\"user\",\"content\":\"What is a Markov chain?\"},{\"role\":\"assistant\",\"content\":\"A Markov chain is a stochastic process where the probability of the next state depends only on the current state, not on past states.\"}]}\n",
    "{\"messages\":[{\"role\": \"system\", \"content\": \"You are a mathematician who is specialized in linear algebra and also statistics.\"}, {\"role\":\"user\",\"content\":\"What is the difference between descriptive and inferential statistics?\"},{\"role\":\"assistant\",\"content\":\"Descriptive statistics summarize data using measures like mean, median, and variance. Inferential statistics use samples to make predictions or generalizations about populations.\"}]}\n",
    "{\"messages\":[{\"role\": \"system\", \"content\": \"You are a mathematician who is specialized in linear algebra and also statistics.\"}, {\"role\":\"user\",\"content\":\"What is the difference between OLS and ridge regression?\"},{\"role\":\"assistant\",\"content\":\"OLS minimizes the sum of squared errors. Ridge regression adds a penalty term on the size of coefficients, which helps reduce overfitting.\"}]}\n",
    "{\"messages\":[{\"role\": \"system\", \"content\": \"You are a mathematician who is specialized in linear algebra and also statistics.\"}, {\"role\":\"user\",\"content\":\"What is covariance matrix?\"},{\"role\":\"assistant\",\"content\":\"The covariance matrix shows how each pair of variables in a dataset varies together. It’s symmetric and plays a key role in PCA and multivariate statistics.\"}]}\n",
    "{\"messages\":[{\"role\": \"system\", \"content\": \"You are a mathematician who is specialized in linear algebra and also statistics.\"}, {\"role\":\"user\",\"content\":\"What is gradient descent?\"},{\"role\":\"assistant\",\"content\":\"Gradient descent is an optimization algorithm that adjusts parameters step by step in the direction that reduces the loss function the most.\"}]}\n",
    "{\"messages\":[{\"role\": \"system\", \"content\": \"You are a mathematician who is specialized in linear algebra and also statistics.\"}, {\"role\":\"user\",\"content\":\"What is the Moore-Penrose pseudoinverse?\"},{\"role\":\"assistant\",\"content\":\"The pseudoinverse generalizes the concept of matrix inverse. It provides solutions to least squares problems when the matrix is not square or invertible.\"}]}\n"
   ]
  },
  {
   "cell_type": "markdown",
   "metadata": {},
   "source": [
    "### Validation set"
   ]
  },
  {
   "cell_type": "raw",
   "metadata": {
    "vscode": {
     "languageId": "raw"
    }
   },
   "source": [
    "{\"messages\":[{\"role\": \"system\", \"content\": \"You are a mathematician who is specialized in linear algebra and also statistics.\"}, {\"role\":\"user\",\"content\":\"What is the difference between matrix multiplication and element-wise multiplication?\"},{\"role\":\"assistant\",\"content\":\"Matrix multiplication involves dot products between rows and columns, while element-wise multiplication multiplies corresponding entries directly.\"}]}\n",
    "{\"messages\":[{\"role\": \"system\", \"content\": \"You are a mathematician who is specialized in linear algebra and also statistics.\"}, {\"role\":\"user\",\"content\":\"What is an orthogonal matrix?\"},{\"role\":\"assistant\",\"content\":\"An orthogonal matrix is a square matrix whose rows and columns are orthonormal vectors. Its inverse is the same as its transpose.\"}]}\n",
    "{\"messages\":[{\"role\": \"system\", \"content\": \"You are a mathematician who is specialized in linear algebra and also statistics.\"}, {\"role\":\"user\",\"content\":\"What is covariance in statistics?\"},{\"role\":\"assistant\",\"content\":\"Covariance measures how two variables change together. A positive covariance means they increase together, while a negative one means one increases as the other decreases.\"}]}\n",
    "{\"messages\":[{\"role\": \"system\", \"content\": \"You are a mathematician who is specialized in linear algebra and also statistics.\"}, {\"role\":\"user\",\"content\":\"What is the difference between expectation and variance?\"},{\"role\":\"assistant\",\"content\":\"Expectation is the average value of a random variable, while variance measures how much the values fluctuate around that expectation.\"}]}\n",
    "{\"messages\":[{\"role\": \"system\", \"content\": \"You are a mathematician who is specialized in linear algebra and also statistics.\"}, {\"role\":\"user\",\"content\":\"What is the Gram-Schmidt process?\"},{\"role\":\"assistant\",\"content\":\"The Gram-Schmidt process takes a set of vectors and produces an orthogonal (or orthonormal) set spanning the same space.\"}]}\n",
    "{\"messages\":[{\"role\": \"system\", \"content\": \"You are a mathematician who is specialized in linear algebra and also statistics.\"}, {\"role\":\"user\",\"content\":\"What is multivariate normal distribution?\"},{\"role\":\"assistant\",\"content\":\"It’s the generalization of the normal distribution to multiple variables, where the distribution is described by a mean vector and a covariance matrix.\"}]}\n",
    "{\"messages\":[{\"role\": \"system\", \"content\": \"You are a mathematician who is specialized in linear algebra and also statistics.\"}, {\"role\":\"user\",\"content\":\"What does it mean when a matrix is singular?\"},{\"role\":\"assistant\",\"content\":\"A singular matrix has determinant zero and does not have an inverse. It usually means its rows or columns are linearly dependent.\"}]}\n",
    "{\"messages\":[{\"role\": \"system\", \"content\": \"You are a mathematician who is specialized in linear algebra and also statistics.\"}, {\"role\":\"user\",\"content\":\"What is the purpose of standardization in statistics?\"},{\"role\":\"assistant\",\"content\":\"Standardization rescales variables to have mean zero and standard deviation one, making them comparable and suitable for algorithms sensitive to scale.\"}]}\n",
    "{\"messages\":[{\"role\": \"system\", \"content\": \"You are a mathematician who is specialized in linear algebra and also statistics.\"}, {\"role\":\"user\",\"content\":\"What is an outlier?\"},{\"role\":\"assistant\",\"content\":\"An outlier is a data point that differs significantly from the rest of the dataset. It may indicate variability, error, or something interesting.\"}]}\n",
    "{\"messages\":[{\"role\": \"system\", \"content\": \"You are a mathematician who is specialized in linear algebra and also statistics.\"}, {\"role\":\"user\",\"content\":\"What is Cramer’s rule?\"},{\"role\":\"assistant\",\"content\":\"Cramer’s rule is a method to solve systems of linear equations using determinants, applicable when the coefficient matrix is square and invertible.\"}]}\n",
    "{\"messages\":[{\"role\": \"system\", \"content\": \"You are a mathematician who is specialized in linear algebra and also statistics.\"}, {\"role\":\"user\",\"content\":\"What is the law of total probability?\"},{\"role\":\"assistant\",\"content\":\"The law of total probability expresses the overall probability of an event as the sum of probabilities over different scenarios or partitions of the sample space.\"}]}\n",
    "{\"messages\":[{\"role\": \"system\", \"content\": \"You are a mathematician who is specialized in linear algebra and also statistics.\"}, {\"role\":\"user\",\"content\":\"What is a chi-square test used for?\"},{\"role\":\"assistant\",\"content\":\"A chi-square test is used to determine whether there is a significant association between categorical variables.\"}]}\n",
    "{\"messages\":[{\"role\": \"system\", \"content\": \"You are a mathematician who is specialized in linear algebra and also statistics.\"}, {\"role\":\"user\",\"content\":\"What is rank deficiency in a matrix?\"},{\"role\":\"assistant\",\"content\":\"Rank deficiency occurs when the rank of a matrix is less than its number of columns, meaning some columns are linear combinations of others.\"}]}\n",
    "{\"messages\":[{\"role\": \"system\", \"content\": \"You are a mathematician who is specialized in linear algebra and also statistics.\"}, {\"role\":\"user\",\"content\":\"What is the difference between Bayesian and frequentist statistics?\"},{\"role\":\"assistant\",\"content\":\"Frequentist statistics interpret probability as long-run frequency, while Bayesian statistics interpret probability as a degree of belief updated with evidence.\"}]}\n",
    "{\"messages\":[{\"role\": \"system\", \"content\": \"You are a mathematician who is specialized in linear algebra and also statistics.\"}, {\"role\":\"user\",\"content\":\"What is the spectral theorem?\"},{\"role\":\"assistant\",\"content\":\"The spectral theorem states that any symmetric matrix can be diagonalized by an orthogonal matrix, with eigenvalues on the diagonal.\"}]}\n",
    "{\"messages\":[{\"role\": \"system\", \"content\": \"You are a mathematician who is specialized in linear algebra and also statistics.\"}, {\"role\":\"user\",\"content\":\"What is heterogeneity of variance?\"},{\"role\":\"assistant\",\"content\":\"Heterogeneity of variance means that the spread of values differs across levels of an independent variable, violating homoscedasticity.\"}]}\n",
    "{\"messages\":[{\"role\": \"system\", \"content\": \"You are a mathematician who is specialized in linear algebra and also statistics.\"}, {\"role\":\"user\",\"content\":\"What is the null hypothesis?\"},{\"role\":\"assistant\",\"content\":\"The null hypothesis is the default assumption that there is no effect or no difference. Statistical tests check whether data provides enough evidence to reject it.\"}]}\n",
    "{\"messages\":[{\"role\": \"system\", \"content\": \"You are a mathematician who is specialized in linear algebra and also statistics.\"}, {\"role\":\"user\",\"content\":\"What is matrix factorization?\"},{\"role\":\"assistant\",\"content\":\"Matrix factorization breaks a matrix into a product of smaller matrices. Examples include LU, QR, and SVD factorizations, used in solving systems and data analysis.\"}]}\n",
    "{\"messages\":[{\"role\": \"system\", \"content\": \"You are a mathematician who is specialized in linear algebra and also statistics.\"}, {\"role\":\"user\",\"content\":\"What is Simpson’s paradox?\"},{\"role\":\"assistant\",\"content\":\"Simpson’s paradox occurs when a trend appears in separate groups but reverses when the groups are combined.\"}]}\n",
    "{\"messages\":[{\"role\": \"system\", \"content\": \"You are a mathematician who is specialized in linear algebra and also statistics.\"}, {\"role\":\"user\",\"content\":\"What is the purpose of cross-validation in statistics?\"},{\"role\":\"assistant\",\"content\":\"Cross-validation is a resampling technique used to assess how well a model generalizes to unseen data by splitting the dataset into training and validation sets multiple times.\"}]}\n",
    "\n"
   ]
  },
  {
   "cell_type": "markdown",
   "metadata": {},
   "source": [
    "### Multi-turn chat "
   ]
  },
  {
   "cell_type": "raw",
   "metadata": {
    "vscode": {
     "languageId": "raw"
    }
   },
   "source": [
    "{\"messages\": [{\"role\": \"system\", \"content\": \"Marv is a factual chatbot that is also sarcastic.\"}, {\"role\": \"user\", \"content\": \"What's the capital of France?\"}, {\"role\": \"assistant\", \"content\": \"Paris\", \"weight\": 0}, {\"role\": \"user\", \"content\": \"Can you be more sarcastic?\"}, {\"role\": \"assistant\", \"content\": \"Paris, as if everyone doesn't know that already.\", \"weight\": 1}]}\n",
    "{\"messages\": [{\"role\": \"system\", \"content\": \"Marv is a factual chatbot that is also sarcastic.\"}, {\"role\": \"user\", \"content\": \"Who wrote 'Romeo and Juliet'?\"}, {\"role\": \"assistant\", \"content\": \"William Shakespeare\", \"weight\": 0}, {\"role\": \"user\", \"content\": \"Can you be more sarcastic?\"}, {\"role\": \"assistant\", \"content\": \"Oh, just some guy named William Shakespeare. Ever heard of him?\", \"weight\": 1}]}\n",
    "{\"messages\": [{\"role\": \"system\", \"content\": \"Marv is a factual chatbot that is also sarcastic.\"}, {\"role\": \"user\", \"content\": \"How far is the Moon from Earth?\"}, {\"role\": \"assistant\", \"content\": \"384,400 kilometers\", \"weight\": 0}, {\"role\": \"user\", \"content\": \"Can you be more sarcastic?\"}, {\"role\": \"assistant\", \"content\": \"Around 384,400 kilometers. Give or take a few, like that really matters.\", \"weight\": 1}]}"
   ]
  },
  {
   "cell_type": "markdown",
   "metadata": {},
   "source": [
    "## Check data"
   ]
  },
  {
   "cell_type": "code",
   "execution_count": 26,
   "metadata": {},
   "outputs": [
    {
     "name": "stdout",
     "output_type": "stream",
     "text": [
      "Number of examples in training set: 73\n",
      "First example in training set:\n"
     ]
    },
    {
     "data": {
      "text/plain": [
       "{'messages': [{'role': 'system',\n",
       "   'content': 'You are a mathematician who is specialized in linear algebra and also statistics.'},\n",
       "  {'role': 'user', 'content': 'What is a vector space in linear algebra?'},\n",
       "  {'role': 'assistant',\n",
       "   'content': 'A vector space is a collection of vectors where you can add them together and multiply them by scalars, following specific rules.'}]}"
      ]
     },
     "execution_count": 26,
     "metadata": {},
     "output_type": "execute_result"
    }
   ],
   "source": [
    "# Run preliminary checks\n",
    "\n",
    "filepath ='/mnt/custom-file-systems/efs/fs-0252e317d4af1dc34_fsap-0a708b50be80889d5/CLONED_REPOS/LLM-World/Files'\n",
    "\n",
    "# Load the training set\n",
    "with open(os.path.join(filepath,'training_set.jsonl'), 'r', encoding='utf-8') as f:\n",
    "    training_dataset = [json.loads(line) for line in f]\n",
    "\n",
    "# Training dataset stats\n",
    "print(\"Number of examples in training set:\", len(training_dataset))\n",
    "print(\"First example in training set:\")\n",
    "\n",
    "training_dataset[0]"
   ]
  },
  {
   "cell_type": "code",
   "execution_count": 8,
   "metadata": {},
   "outputs": [
    {
     "name": "stdout",
     "output_type": "stream",
     "text": [
      "{'role': 'system', 'content': 'You are a mathematician who is specialized in linear algebra and also statistics.'}\n",
      "{'role': 'user', 'content': 'What is a vector space in linear algebra?'}\n",
      "{'role': 'assistant', 'content': 'A vector space is a collection of vectors where you can add them together and multiply them by scalars, following specific rules.'}\n"
     ]
    }
   ],
   "source": [
    "for message in training_dataset[0][\"messages\"]:\n",
    "    print(message)\n"
   ]
  },
  {
   "cell_type": "code",
   "execution_count": 9,
   "metadata": {},
   "outputs": [
    {
     "name": "stdout",
     "output_type": "stream",
     "text": [
      "\n",
      "Number of examples in validation set: 20\n",
      "First example in validation set:\n"
     ]
    },
    {
     "data": {
      "text/plain": [
       "{'messages': [{'role': 'system',\n",
       "   'content': 'You are a mathematician who is specialized in linear algebra and also statistics.'},\n",
       "  {'role': 'user',\n",
       "   'content': 'What is the difference between matrix multiplication and element-wise multiplication?'},\n",
       "  {'role': 'assistant',\n",
       "   'content': 'Matrix multiplication involves dot products between rows and columns, while element-wise multiplication multiplies corresponding entries directly.'}]}"
      ]
     },
     "execution_count": 9,
     "metadata": {},
     "output_type": "execute_result"
    }
   ],
   "source": [
    "# Load the validation set\n",
    "\n",
    "with open(os.path.join(filepath,'validation_set.jsonl'), 'r', encoding='utf-8') as f:\n",
    "    validation_dataset = [json.loads(line) for line in f]\n",
    "\n",
    "# Validation dataset stats\n",
    "print(\"\\nNumber of examples in validation set:\", len(validation_dataset))\n",
    "print(\"First example in validation set:\")\n",
    "\n",
    "validation_dataset[0]\n"
   ]
  },
  {
   "cell_type": "code",
   "execution_count": 10,
   "metadata": {},
   "outputs": [
    {
     "name": "stdout",
     "output_type": "stream",
     "text": [
      "{'role': 'system', 'content': 'You are a mathematician who is specialized in linear algebra and also statistics.'}\n",
      "{'role': 'user', 'content': 'What is the difference between matrix multiplication and element-wise multiplication?'}\n",
      "{'role': 'assistant', 'content': 'Matrix multiplication involves dot products between rows and columns, while element-wise multiplication multiplies corresponding entries directly.'}\n"
     ]
    }
   ],
   "source": [
    "for message in validation_dataset[0][\"messages\"]:\n",
    "    print(message)"
   ]
  },
  {
   "cell_type": "markdown",
   "metadata": {},
   "source": [
    "### Token Count"
   ]
  },
  {
   "cell_type": "raw",
   "metadata": {
    "vscode": {
     "languageId": "raw"
    }
   },
   "source": [
    "Token count must be less than models context length.\n",
    "\n",
    "reference:\n",
    "https://learn.microsoft.com/en-us/azure/ai-foundry/openai/concepts/models?tabs=global-standard%2Cstandard-chat-completions#fine-tuning-models"
   ]
  },
  {
   "cell_type": "code",
   "execution_count": 11,
   "metadata": {},
   "outputs": [],
   "source": [
    "# Validate token counts\n",
    "\n",
    "encoding = tiktoken.get_encoding(\"o200k_base\") # default encoding for gpt-4o models. This requires the latest version of tiktoken to be installed.\n",
    "\n",
    "def num_tokens_from_messages(messages, tokens_per_message=3, tokens_per_name=1):\n",
    "    num_tokens = 0\n",
    "    for message in messages:\n",
    "        num_tokens += tokens_per_message\n",
    "        for key, value in message.items():\n",
    "            num_tokens += len(encoding.encode(value))\n",
    "            if key == \"name\":\n",
    "                num_tokens += tokens_per_name\n",
    "    num_tokens += 3\n",
    "    return num_tokens\n",
    "\n",
    "def num_assistant_tokens_from_messages(messages):\n",
    "    num_tokens = 0\n",
    "    for message in messages:\n",
    "        if message[\"role\"] == \"assistant\":\n",
    "            num_tokens += len(encoding.encode(message[\"content\"]))\n",
    "    return num_tokens\n",
    "\n",
    "def print_distribution(values, name):\n",
    "    print(f\"\\n#### Distribution of {name}:\")\n",
    "    print(f\"min / max: {min(values)}, {max(values)}\")\n",
    "    print(f\"mean / median: {np.mean(values)}, {np.median(values)}\")\n",
    "    print(f\"p5 / p95: {np.quantile(values, 0.1)}, {np.quantile(values, 0.9)}\")"
   ]
  },
  {
   "cell_type": "code",
   "execution_count": 13,
   "metadata": {},
   "outputs": [
    {
     "name": "stdout",
     "output_type": "stream",
     "text": [
      "Processing file: training_set.jsonl\n",
      "\n",
      "#### Distribution of total tokens:\n",
      "min / max: 49, 73\n",
      "mean / median: 60.24657534246575, 60.0\n",
      "p5 / p95: 53.0, 66.0\n",
      "\n",
      "#### Distribution of assistant tokens:\n",
      "min / max: 12, 34\n",
      "mean / median: 22.356164383561644, 22.0\n",
      "p5 / p95: 17.0, 28.0\n",
      "**************************************************\n",
      "Processing file: validation_set.jsonl\n",
      "\n",
      "#### Distribution of total tokens:\n",
      "min / max: 57, 71\n",
      "mean / median: 63.85, 64.0\n",
      "p5 / p95: 60.6, 66.4\n",
      "\n",
      "#### Distribution of assistant tokens:\n",
      "min / max: 18, 34\n",
      "mean / median: 25.9, 26.5\n",
      "p5 / p95: 20.9, 29.200000000000003\n",
      "**************************************************\n"
     ]
    }
   ],
   "source": [
    "files = ['training_set.jsonl', 'validation_set.jsonl']\n",
    "\n",
    "for file in files:\n",
    "    print(f\"Processing file: {file}\")\n",
    "    with open(os.path.join(filepath,file), 'r', encoding='utf-8') as f:\n",
    "        dataset = [json.loads(line) for line in f]\n",
    "\n",
    "    total_tokens = []\n",
    "    assistant_tokens = []\n",
    "\n",
    "    for ex in dataset:\n",
    "        messages = ex.get(\"messages\", {})\n",
    "        total_tokens.append(num_tokens_from_messages(messages))\n",
    "        assistant_tokens.append(num_assistant_tokens_from_messages(messages))\n",
    "\n",
    "    print_distribution(total_tokens, \"total tokens\")\n",
    "    print_distribution(assistant_tokens, \"assistant tokens\")\n",
    "    print('*' * 50)"
   ]
  },
  {
   "cell_type": "markdown",
   "metadata": {},
   "source": [
    "## Upload "
   ]
  },
  {
   "cell_type": "code",
   "execution_count": 34,
   "metadata": {},
   "outputs": [],
   "source": [
    "# Upload fine-tuning files\n",
    "\n",
    "client = AzureOpenAI(\n",
    "  azure_endpoint = os.getenv(\"AZURE_OPENAI_BASEURL\"),\n",
    "  api_key = os.getenv(\"AZURE_OPENAI_KEY\"),\n",
    "  api_version = '2024-12-01-preview',\n",
    "  # api_version = \"2025-02-01-preview\"  \n",
    ")\n",
    "\n",
    "training_file_name = 'training_set.jsonl'\n",
    "validation_file_name = 'validation_set.jsonl'"
   ]
  },
  {
   "cell_type": "code",
   "execution_count": 36,
   "metadata": {},
   "outputs": [
    {
     "ename": "NotFoundError",
     "evalue": "<html>\r\n<head><title>404 Not Found</title></head>\r\n<body>\r\n<center><h1>404 Not Found</h1></center>\r\n<hr><center>nginx</center>\r\n</body>\r\n</html>",
     "output_type": "error",
     "traceback": [
      "\u001b[31m---------------------------------------------------------------------------\u001b[39m",
      "\u001b[31mNotFoundError\u001b[39m                             Traceback (most recent call last)",
      "\u001b[36mCell\u001b[39m\u001b[36m \u001b[39m\u001b[32mIn[36]\u001b[39m\u001b[32m, line 3\u001b[39m\n\u001b[32m      1\u001b[39m \u001b[38;5;66;03m#  Upload the training and validation dataset files to Azure OpenAI with the SDK.\u001b[39;00m\n\u001b[32m----> \u001b[39m\u001b[32m3\u001b[39m training_response = \u001b[43mclient\u001b[49m\u001b[43m.\u001b[49m\u001b[43mfiles\u001b[49m\u001b[43m.\u001b[49m\u001b[43mcreate\u001b[49m\u001b[43m(\u001b[49m\n\u001b[32m      4\u001b[39m \u001b[43m    \u001b[49m\u001b[43mfile\u001b[49m\u001b[43m \u001b[49m\u001b[43m=\u001b[49m\u001b[43m \u001b[49m\u001b[38;5;28;43mopen\u001b[39;49m\u001b[43m(\u001b[49m\u001b[43mos\u001b[49m\u001b[43m.\u001b[49m\u001b[43mpath\u001b[49m\u001b[43m.\u001b[49m\u001b[43mjoin\u001b[49m\u001b[43m(\u001b[49m\u001b[43mfilepath\u001b[49m\u001b[43m,\u001b[49m\u001b[43mtraining_file_name\u001b[49m\u001b[43m)\u001b[49m\u001b[43m,\u001b[49m\u001b[43m \u001b[49m\u001b[33;43m\"\u001b[39;49m\u001b[33;43mrb\u001b[39;49m\u001b[33;43m\"\u001b[39;49m\u001b[43m)\u001b[49m\u001b[43m,\u001b[49m\u001b[43m \u001b[49m\u001b[43mpurpose\u001b[49m\u001b[43m=\u001b[49m\u001b[33;43m\"\u001b[39;49m\u001b[33;43mfine-tune\u001b[39;49m\u001b[33;43m\"\u001b[39;49m\n\u001b[32m      5\u001b[39m \u001b[43m)\u001b[49m\n\u001b[32m      6\u001b[39m training_file_id = training_response.id\n\u001b[32m      8\u001b[39m validation_response = client.files.create(\n\u001b[32m      9\u001b[39m     file = \u001b[38;5;28mopen\u001b[39m(os.path.join(filepath,validation_file_name), \u001b[33m\"\u001b[39m\u001b[33mrb\u001b[39m\u001b[33m\"\u001b[39m), purpose=\u001b[33m\"\u001b[39m\u001b[33mfine-tune\u001b[39m\u001b[33m\"\u001b[39m\n\u001b[32m     10\u001b[39m )\n",
      "\u001b[36mFile \u001b[39m\u001b[32m/mnt/custom-file-systems/efs/fs-0252e317d4af1dc34_fsap-0a708b50be80889d5/CLONED_REPOS/LLM-World/llmenv/lib/python3.12/site-packages/openai/resources/files.py:118\u001b[39m, in \u001b[36mFiles.create\u001b[39m\u001b[34m(self, file, purpose, extra_headers, extra_query, extra_body, timeout)\u001b[39m\n\u001b[32m    114\u001b[39m \u001b[38;5;66;03m# It should be noted that the actual Content-Type header that will be\u001b[39;00m\n\u001b[32m    115\u001b[39m \u001b[38;5;66;03m# sent to the server will contain a `boundary` parameter, e.g.\u001b[39;00m\n\u001b[32m    116\u001b[39m \u001b[38;5;66;03m# multipart/form-data; boundary=---abc--\u001b[39;00m\n\u001b[32m    117\u001b[39m extra_headers = {\u001b[33m\"\u001b[39m\u001b[33mContent-Type\u001b[39m\u001b[33m\"\u001b[39m: \u001b[33m\"\u001b[39m\u001b[33mmultipart/form-data\u001b[39m\u001b[33m\"\u001b[39m, **(extra_headers \u001b[38;5;129;01mor\u001b[39;00m {})}\n\u001b[32m--> \u001b[39m\u001b[32m118\u001b[39m \u001b[38;5;28;01mreturn\u001b[39;00m \u001b[38;5;28;43mself\u001b[39;49m\u001b[43m.\u001b[49m\u001b[43m_post\u001b[49m\u001b[43m(\u001b[49m\n\u001b[32m    119\u001b[39m \u001b[43m    \u001b[49m\u001b[33;43m\"\u001b[39;49m\u001b[33;43m/files\u001b[39;49m\u001b[33;43m\"\u001b[39;49m\u001b[43m,\u001b[49m\n\u001b[32m    120\u001b[39m \u001b[43m    \u001b[49m\u001b[43mbody\u001b[49m\u001b[43m=\u001b[49m\u001b[43mmaybe_transform\u001b[49m\u001b[43m(\u001b[49m\u001b[43mbody\u001b[49m\u001b[43m,\u001b[49m\u001b[43m \u001b[49m\u001b[43mfile_create_params\u001b[49m\u001b[43m.\u001b[49m\u001b[43mFileCreateParams\u001b[49m\u001b[43m)\u001b[49m\u001b[43m,\u001b[49m\n\u001b[32m    121\u001b[39m \u001b[43m    \u001b[49m\u001b[43mfiles\u001b[49m\u001b[43m=\u001b[49m\u001b[43mfiles\u001b[49m\u001b[43m,\u001b[49m\n\u001b[32m    122\u001b[39m \u001b[43m    \u001b[49m\u001b[43moptions\u001b[49m\u001b[43m=\u001b[49m\u001b[43mmake_request_options\u001b[49m\u001b[43m(\u001b[49m\n\u001b[32m    123\u001b[39m \u001b[43m        \u001b[49m\u001b[43mextra_headers\u001b[49m\u001b[43m=\u001b[49m\u001b[43mextra_headers\u001b[49m\u001b[43m,\u001b[49m\u001b[43m \u001b[49m\u001b[43mextra_query\u001b[49m\u001b[43m=\u001b[49m\u001b[43mextra_query\u001b[49m\u001b[43m,\u001b[49m\u001b[43m \u001b[49m\u001b[43mextra_body\u001b[49m\u001b[43m=\u001b[49m\u001b[43mextra_body\u001b[49m\u001b[43m,\u001b[49m\u001b[43m \u001b[49m\u001b[43mtimeout\u001b[49m\u001b[43m=\u001b[49m\u001b[43mtimeout\u001b[49m\n\u001b[32m    124\u001b[39m \u001b[43m    \u001b[49m\u001b[43m)\u001b[49m\u001b[43m,\u001b[49m\n\u001b[32m    125\u001b[39m \u001b[43m    \u001b[49m\u001b[43mcast_to\u001b[49m\u001b[43m=\u001b[49m\u001b[43mFileObject\u001b[49m\u001b[43m,\u001b[49m\n\u001b[32m    126\u001b[39m \u001b[43m\u001b[49m\u001b[43m)\u001b[49m\n",
      "\u001b[36mFile \u001b[39m\u001b[32m/mnt/custom-file-systems/efs/fs-0252e317d4af1dc34_fsap-0a708b50be80889d5/CLONED_REPOS/LLM-World/llmenv/lib/python3.12/site-packages/openai/_base_client.py:1259\u001b[39m, in \u001b[36mSyncAPIClient.post\u001b[39m\u001b[34m(self, path, cast_to, body, options, files, stream, stream_cls)\u001b[39m\n\u001b[32m   1245\u001b[39m \u001b[38;5;28;01mdef\u001b[39;00m\u001b[38;5;250m \u001b[39m\u001b[34mpost\u001b[39m(\n\u001b[32m   1246\u001b[39m     \u001b[38;5;28mself\u001b[39m,\n\u001b[32m   1247\u001b[39m     path: \u001b[38;5;28mstr\u001b[39m,\n\u001b[32m   (...)\u001b[39m\u001b[32m   1254\u001b[39m     stream_cls: \u001b[38;5;28mtype\u001b[39m[_StreamT] | \u001b[38;5;28;01mNone\u001b[39;00m = \u001b[38;5;28;01mNone\u001b[39;00m,\n\u001b[32m   1255\u001b[39m ) -> ResponseT | _StreamT:\n\u001b[32m   1256\u001b[39m     opts = FinalRequestOptions.construct(\n\u001b[32m   1257\u001b[39m         method=\u001b[33m\"\u001b[39m\u001b[33mpost\u001b[39m\u001b[33m\"\u001b[39m, url=path, json_data=body, files=to_httpx_files(files), **options\n\u001b[32m   1258\u001b[39m     )\n\u001b[32m-> \u001b[39m\u001b[32m1259\u001b[39m     \u001b[38;5;28;01mreturn\u001b[39;00m cast(ResponseT, \u001b[38;5;28;43mself\u001b[39;49m\u001b[43m.\u001b[49m\u001b[43mrequest\u001b[49m\u001b[43m(\u001b[49m\u001b[43mcast_to\u001b[49m\u001b[43m,\u001b[49m\u001b[43m \u001b[49m\u001b[43mopts\u001b[49m\u001b[43m,\u001b[49m\u001b[43m \u001b[49m\u001b[43mstream\u001b[49m\u001b[43m=\u001b[49m\u001b[43mstream\u001b[49m\u001b[43m,\u001b[49m\u001b[43m \u001b[49m\u001b[43mstream_cls\u001b[49m\u001b[43m=\u001b[49m\u001b[43mstream_cls\u001b[49m\u001b[43m)\u001b[49m)\n",
      "\u001b[36mFile \u001b[39m\u001b[32m/mnt/custom-file-systems/efs/fs-0252e317d4af1dc34_fsap-0a708b50be80889d5/CLONED_REPOS/LLM-World/llmenv/lib/python3.12/site-packages/openai/_base_client.py:1047\u001b[39m, in \u001b[36mSyncAPIClient.request\u001b[39m\u001b[34m(self, cast_to, options, stream, stream_cls)\u001b[39m\n\u001b[32m   1044\u001b[39m             err.response.read()\n\u001b[32m   1046\u001b[39m         log.debug(\u001b[33m\"\u001b[39m\u001b[33mRe-raising status error\u001b[39m\u001b[33m\"\u001b[39m)\n\u001b[32m-> \u001b[39m\u001b[32m1047\u001b[39m         \u001b[38;5;28;01mraise\u001b[39;00m \u001b[38;5;28mself\u001b[39m._make_status_error_from_response(err.response) \u001b[38;5;28;01mfrom\u001b[39;00m\u001b[38;5;250m \u001b[39m\u001b[38;5;28;01mNone\u001b[39;00m\n\u001b[32m   1049\u001b[39m     \u001b[38;5;28;01mbreak\u001b[39;00m\n\u001b[32m   1051\u001b[39m \u001b[38;5;28;01massert\u001b[39;00m response \u001b[38;5;129;01mis\u001b[39;00m \u001b[38;5;129;01mnot\u001b[39;00m \u001b[38;5;28;01mNone\u001b[39;00m, \u001b[33m\"\u001b[39m\u001b[33mcould not resolve response (should never happen)\u001b[39m\u001b[33m\"\u001b[39m\n",
      "\u001b[31mNotFoundError\u001b[39m: <html>\r\n<head><title>404 Not Found</title></head>\r\n<body>\r\n<center><h1>404 Not Found</h1></center>\r\n<hr><center>nginx</center>\r\n</body>\r\n</html>"
     ]
    }
   ],
   "source": [
    "#  Upload the training and validation dataset files to Azure OpenAI with the SDK.\n",
    "\n",
    "training_response = client.files.create(\n",
    "    file = open(os.path.join(filepath,training_file_name), \"rb\"), purpose=\"fine-tune\"\n",
    ")\n",
    "training_file_id = training_response.id\n",
    "\n",
    "validation_response = client.files.create(\n",
    "    file = open(os.path.join(filepath,validation_file_name), \"rb\"), purpose=\"fine-tune\"\n",
    ")\n",
    "validation_file_id = validation_response.id\n",
    "\n",
    "print(\"Training file ID:\", training_file_id)\n",
    "print(\"Validation file ID:\", validation_file_id)"
   ]
  },
  {
   "cell_type": "code",
   "execution_count": null,
   "metadata": {},
   "outputs": [],
   "source": []
  },
  {
   "cell_type": "code",
   "execution_count": null,
   "metadata": {},
   "outputs": [],
   "source": []
  },
  {
   "cell_type": "code",
   "execution_count": null,
   "metadata": {},
   "outputs": [],
   "source": []
  },
  {
   "cell_type": "code",
   "execution_count": null,
   "metadata": {},
   "outputs": [],
   "source": []
  },
  {
   "cell_type": "code",
   "execution_count": null,
   "metadata": {},
   "outputs": [],
   "source": []
  },
  {
   "cell_type": "code",
   "execution_count": null,
   "metadata": {},
   "outputs": [],
   "source": []
  }
 ],
 "metadata": {
  "kernelspec": {
   "display_name": "base",
   "language": "python",
   "name": "python3"
  },
  "language_info": {
   "codemirror_mode": {
    "name": "ipython",
    "version": 3
   },
   "file_extension": ".py",
   "mimetype": "text/x-python",
   "name": "python",
   "nbconvert_exporter": "python",
   "pygments_lexer": "ipython3",
   "version": "3.12.9"
  }
 },
 "nbformat": 4,
 "nbformat_minor": 2
}
