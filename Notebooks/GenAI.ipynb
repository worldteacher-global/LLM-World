{
 "cells": [
  {
   "cell_type": "code",
   "execution_count": 4,
   "metadata": {},
   "outputs": [],
   "source": [
    "!pip install --quiet openai"
   ]
  },
  {
   "cell_type": "markdown",
   "metadata": {},
   "source": [
    "# ChatBot"
   ]
  },
  {
   "cell_type": "code",
   "execution_count": 39,
   "metadata": {},
   "outputs": [],
   "source": [
    "import openai\n",
    "from openai import AzureOpenAI\n",
    "\n",
    "import os\n",
    "import requests\n",
    "\n",
    "from dotenv import load_dotenv"
   ]
  },
  {
   "cell_type": "code",
   "execution_count": 40,
   "metadata": {},
   "outputs": [],
   "source": [
    "load_dotenv('/home/sagemaker-user/user-default-efs/CLONED_REPOS/LLM-World/.env')\n",
    "\n",
    "def my_gpt(model, ask_a_question):\n",
    "    api_response = requests.get(os.getenv('AZURE_OPENAI_BASEURL'))\n",
    "    payload = api_response.json()\n",
    "\n",
    "    myClient = AzureOpenAI(\n",
    "        api_key = os.getenv('AZURE_OPENAI_KEY'),\n",
    "        api_version = '2024-12-01-preview',\n",
    "        azure_endpoint = payload['nonprod'][model][0]['endpoint']\n",
    "    )\n",
    "\n",
    "    convo = []\n",
    "    convo.append({'role':'user','content':ask_a_question})\n",
    "    response = myClient.chat.completions.create(\n",
    "    model = model,\n",
    "    max_tokens = 30000,\n",
    "    messages = convo,\n",
    "    temperature = 0)\n",
    "\n",
    "    reply = response.choices[0].message.content\n",
    "    convo.append({'role':'assistant','content':reply})\n",
    "\n",
    "    return convo"
   ]
  },
  {
   "cell_type": "code",
   "execution_count": 41,
   "metadata": {},
   "outputs": [
    {
     "name": "stdout",
     "output_type": "stream",
     "text": [
      "[(0, 'dall-e-3'), (1, 'gpt-35-turbo'), (2, 'gpt-35-turbo-instruct'), (3, 'gpt-4-turbo'), (4, 'gpt-4.1'), (5, 'gpt-4.1-mini'), (6, 'gpt-4.1-nano'), (7, 'gpt-4.5'), (8, 'gpt-4o-audio'), (9, 'gpt-4o-global'), (10, 'gpt-4o-mini-global'), (11, 'gpt-4o-regional'), (12, 'gpt-image-1'), (13, 'o1'), (14, 'o1-mini'), (15, 'o3'), (16, 'o3-mini'), (17, 'o4-mini'), (18, 'text-embedding-3-large'), (19, 'text-embedding-3-small'), (20, 'text-embedding-ada-002')]\n"
     ]
    }
   ],
   "source": [
    "response = requests.get(os.getenv('AZURE_OPENAI_BASEURL'))\n",
    "returned_payload = response.json()\n",
    "\n",
    "list_of_models = [models for models in enumerate(returned_payload['nonprod'].keys())]\n",
    "print(list_of_models)"
   ]
  },
  {
   "cell_type": "code",
   "execution_count": 42,
   "metadata": {},
   "outputs": [
    {
     "name": "stdout",
     "output_type": "stream",
     "text": [
      "gpt-4.1\n"
     ]
    }
   ],
   "source": [
    "model_index = 4\n",
    "\n",
    "mymodel = list_of_models[model_index][1]\n",
    "print(mymodel)"
   ]
  },
  {
   "cell_type": "code",
   "execution_count": 43,
   "metadata": {},
   "outputs": [
    {
     "data": {
      "text/plain": [
       "[{'role': 'user', 'content': 'How far is saturn from the sun?'},\n",
       " {'role': 'assistant',\n",
       "  'content': 'Saturn is, on average, about **1.43 billion kilometers** (or **886 million miles**) away from the Sun. This distance is also commonly expressed as **9.5 astronomical units (AU)**, where 1 AU is the average distance from the Earth to the Sun (about 150 million kilometers or 93 million miles).\\n\\nKeep in mind that Saturn’s distance from the Sun varies slightly because its orbit is not a perfect circle, but this average value is widely used.'}]"
      ]
     },
     "execution_count": 43,
     "metadata": {},
     "output_type": "execute_result"
    }
   ],
   "source": [
    "my_gpt(mymodel,'How far is saturn from the sun?')\n"
   ]
  },
  {
   "cell_type": "code",
   "execution_count": 44,
   "metadata": {},
   "outputs": [
    {
     "data": {
      "text/plain": [
       "[[{'role': 'user', 'content': 'Where are kangaroos mostly found?'},\n",
       "  {'role': 'assistant',\n",
       "   'content': 'Kangaroos are **mostly found in Australia**. They are native to the Australian continent and are commonly seen in a variety of habitats, including grasslands, forests, savannas, and bushland. Some species of kangaroos can also be found in **Tasmania** and **New Guinea**. However, the vast majority of kangaroos live in Australia, where they are a well-known symbol of the country.'}],\n",
       " [{'role': 'user', 'content': 'What countries are best for growing apples?'},\n",
       "  {'role': 'assistant',\n",
       "   'content': 'The best countries for growing apples typically have **temperate climates** with cold winters and moderate summers, as apple trees require a period of winter chill to produce fruit. The following countries are renowned for their apple production, both in terms of quantity and quality:\\n\\n### 1. **China**\\n- **World’s largest producer** (by far).\\n- Major apple-growing regions: Shandong, Shaanxi, and Hebei provinces.\\n- Wide range of varieties, mostly for domestic consumption.\\n\\n### 2. **United States**\\n- **Second largest producer** globally.\\n- Key states: Washington (by far the largest), New York, Michigan, Pennsylvania, California.\\n- Known for high-quality apples and export varieties like Red Delicious, Gala, Fuji, and Granny Smith.\\n\\n### 3. **Poland**\\n- **Top producer in Europe**.\\n- Major apple-growing regions: Mazovia, Lublin, and Świętokrzyskie.\\n- Exports a significant portion of its crop, especially to Europe and the Middle East.\\n\\n### 4. **India**\\n- Major regions: Himachal Pradesh, Jammu & Kashmir, Uttarakhand.\\n- Apples are a key cash crop in the Himalayan foothills.\\n\\n### 5. **Russia**\\n- Large production, mostly for domestic use.\\n- Key regions: Central and Southern Russia.\\n\\n### 6. **Turkey**\\n- Major apple-growing regions: Isparta, Niğde, Karaman.\\n- Both domestic consumption and export.\\n\\n### 7. **Iran**\\n- Significant production, especially in the northwest.\\n\\n### 8. **France**\\n- Renowned for high-quality apples, especially in Normandy and the Loire Valley.\\n- Focus on both eating apples and cider production.\\n\\n### 9. **Italy**\\n- Especially the South Tyrol/Alto Adige region.\\n- Known for premium varieties and exports.\\n\\n### 10. **Chile**\\n- Major exporter, especially to the Northern Hemisphere during its off-season.\\n- Central Valley is the main growing area.\\n\\n---\\n\\n## **Other Notable Countries**\\n- **New Zealand**: High-quality apples, major exporter.\\n- **Germany**: Large producer in Europe.\\n- **Argentina**: Especially in the Río Negro Valley.\\n\\n---\\n\\n## **Key Factors for Good Apple Production**\\n- **Climate**: Cold winters (for chilling hours), frost-free springs, moderate summers.\\n- **Soil**: Well-drained, fertile soils.\\n- **Water**: Adequate rainfall or irrigation.\\n- **Pest/Disease Management**: Good agricultural practices.\\n\\n---\\n\\n### **Summary Table**\\n\\n| Country      | Notable Regions                | Strengths                |\\n|--------------|-------------------------------|--------------------------|\\n| China        | Shandong, Shaanxi, Hebei       | Volume, variety          |\\n| USA          | Washington, NY, Michigan       | Quality, export          |\\n| Poland       | Mazovia, Lublin                | European leader          |\\n| India        | Himachal, Kashmir, Uttarakhand | Mountain apples          |\\n| Russia       | Central, Southern              | Large area               |\\n| Turkey       | Isparta, Niğde                 | Domestic/export          |\\n| France       | Normandy, Loire                | Quality, cider           |\\n| Italy        | South Tyrol                    | Premium, export          |\\n| Chile        | Central Valley                 | Off-season export        |\\n| New Zealand  | Hawke’s Bay, Nelson            | High quality, export     |\\n\\n---\\n\\n**In summary:**  \\nThe best countries for growing apples are those with temperate climates and established apple industries, such as the USA, China, Poland, France, Italy, and Chile. The “best” country for you may depend on your goals (e.g., commercial production, export, specialty varieties, or cider apples).'}],\n",
       " [{'role': 'user', 'content': 'Who let the dogs out?'},\n",
       "  {'role': 'assistant',\n",
       "   'content': 'Who? Who? Who? Who? \\n\\nThe phrase \"Who let the dogs out?\" is the famous chorus from the 2000 hit song by the Baha Men. While the song asks the question, it never actually answers it—leaving it as a fun, catchy mystery! If you’re looking for a deeper meaning, some interpretations suggest the \"dogs\" refer to rowdy men at a party, but officially, the answer remains: **nobody knows!**'}]]"
      ]
     },
     "execution_count": 44,
     "metadata": {},
     "output_type": "execute_result"
    }
   ],
   "source": [
    "list_of_questions = ['Where are kangaroos mostly found?', 'What countries are best for growing apples?', 'Who let the dogs out?']\n",
    "\n",
    "[my_gpt(mymodel, question) for question in list_of_questions]"
   ]
  },
  {
   "cell_type": "markdown",
   "metadata": {},
   "source": [
    "# Fine-tuning Directed Preference Optimization (DPO)"
   ]
  },
  {
   "cell_type": "code",
   "execution_count": 49,
   "metadata": {},
   "outputs": [],
   "source": [
    "from openai import OpenAI\n",
    "import json"
   ]
  },
  {
   "cell_type": "code",
   "execution_count": 50,
   "metadata": {},
   "outputs": [],
   "source": [
    "training_data = [{\n",
    "  \"input\": {\n",
    "    \"messages\": [\n",
    "      {\n",
    "        \"role\": \"user\",\n",
    "        \"content\": \"Hello, can you tell me what is a vector space?\"\n",
    "      }\n",
    "    ],\n",
    "    \"tools\": [],\n",
    "    \"parallel_tool_calls\": 'true'\n",
    "  },\n",
    "  \"preferred_output\": [\n",
    "    {\n",
    "      \"role\": \"assistant\",\n",
    "      \"content\": \"A vector space in linear algebra is a set of objects called vectors, where two operations (vector addition and scalar multiplication) are defined and satisfy specific axioms. Essentially, it's a mathematical structure where vectors can be added and scaled while maintaining certain properties.\"\n",
    "    }\n",
    "  ],\n",
    "  \"non_preferred_output\": [\n",
    "    {\n",
    "      \"role\": \"assistant\",\n",
    "      \"content\": \"A mathematical object that has both magnitude (or length) and direction.\"\n",
    "    }\n",
    "  ]\n",
    "}]\n",
    "\n",
    "file_path = '/home/sagemaker-user/user-default-efs/CLONED_REPOS/LLM-World/Files/fine_tune_data.jsonl'\n",
    "\n",
    "with open(file_path, 'w') as f:\n",
    "  for entry in training_data:\n",
    "    f.write(json.dumps(entry)+'\\n')"
   ]
  },
  {
   "cell_type": "code",
   "execution_count": null,
   "metadata": {},
   "outputs": [],
   "source": [
    "client = OpenAI()\n",
    "\n",
    "trainin_file = client.files.create( file=open(file_path, 'rb'), purpose='fine-tune')\n",
    "\n",
    "job = client.fine_tuning.jobs.create(\n",
    "    training_file = trainin_file.id,\n",
    "    model = mymodel,\n",
    "    method={\n",
    "        'type':'dpo',\n",
    "        'dpo':{\n",
    "            'hyperparameters':{'beta':0.1},\n",
    "        },\n",
    "    },\n",
    ")"
   ]
  },
  {
   "cell_type": "code",
   "execution_count": null,
   "metadata": {},
   "outputs": [],
   "source": [
    "client.fine_tuning.jobs.list()"
   ]
  },
  {
   "cell_type": "code",
   "execution_count": null,
   "metadata": {},
   "outputs": [],
   "source": [
    "latest_job = jobs.data[0]\n",
    "\n",
    "print(latest_job.fine_tuned_model)"
   ]
  },
  {
   "cell_type": "code",
   "execution_count": null,
   "metadata": {},
   "outputs": [],
   "source": [
    "# Eval fine-tuned model\n",
    "\n",
    "model_response = client.chat.completions.create(\n",
    "    model = '',\n",
    "    messages = [\n",
    "        {'role': 'user', 'content': 'Hi, can you describe what a vector space is?'}\n",
    "    ]\n",
    ")\n",
    "\n",
    "print(model_response.choices[0])\n"
   ]
  },
  {
   "cell_type": "code",
   "execution_count": null,
   "metadata": {},
   "outputs": [],
   "source": []
  }
 ],
 "metadata": {
  "kernelspec": {
   "display_name": "base",
   "language": "python",
   "name": "python3"
  },
  "language_info": {
   "codemirror_mode": {
    "name": "ipython",
    "version": 3
   },
   "file_extension": ".py",
   "mimetype": "text/x-python",
   "name": "python",
   "nbconvert_exporter": "python",
   "pygments_lexer": "ipython3",
   "version": "3.12.9"
  }
 },
 "nbformat": 4,
 "nbformat_minor": 2
}
