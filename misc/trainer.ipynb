{
 "cells": [
  {
   "cell_type": "markdown",
   "id": "ca8ad266-fbd9-451a-bbc1-27a4a5c50d43",
   "metadata": {},
   "source": [
    "## Fine-tuning Trainer API"
   ]
  },
  {
   "cell_type": "code",
   "execution_count": 4,
   "id": "03f0bd3c-851a-4ad3-93e9-6504260f1cfd",
   "metadata": {
    "scrolled": true
   },
   "outputs": [],
   "source": [
    "## define a TrainingArguments class to contain all the hyperparameters the Trainer will use for training/evaluation\n",
    "\n",
    "from transformers import TrainingArguments\n",
    "\n",
    "# help(TrainingArguments)\n",
    "\n",
    "args = TrainingArguments(\n",
    "    output_dir='misc/files/training_out/',\n",
    ")"
   ]
  },
  {
   "cell_type": "code",
   "execution_count": 5,
   "id": "54fcec2b-94c4-4f8d-b7ae-9b5c951cd5af",
   "metadata": {},
   "outputs": [
    {
     "data": {
      "application/vnd.jupyter.widget-view+json": {
       "model_id": "d87c77aaaada4f8895517e57352283e9",
       "version_major": 2,
       "version_minor": 0
      },
      "text/plain": [
       "config.json:   0%|          | 0.00/570 [00:00<?, ?B/s]"
      ]
     },
     "metadata": {},
     "output_type": "display_data"
    },
    {
     "data": {
      "application/vnd.jupyter.widget-view+json": {
       "model_id": "6568931115f64a768b7547c00554458d",
       "version_major": 2,
       "version_minor": 0
      },
      "text/plain": [
       "model.safetensors:   0%|          | 0.00/440M [00:00<?, ?B/s]"
      ]
     },
     "metadata": {},
     "output_type": "display_data"
    },
    {
     "name": "stderr",
     "output_type": "stream",
     "text": [
      "Some weights of BertForSequenceClassification were not initialized from the model checkpoint at bert-base-uncased and are newly initialized: ['classifier.bias', 'classifier.weight']\n",
      "You should probably TRAIN this model on a down-stream task to be able to use it for predictions and inference.\n"
     ]
    }
   ],
   "source": [
    "## define the model\n",
    "\n",
    "from transformers import AutoModelForSequenceClassification\n",
    "\n",
    "classifier = AutoModelForSequenceClassification.from_pretrained(\"bert-base-uncased\", num_labels=2)"
   ]
  },
  {
   "cell_type": "code",
   "execution_count": 3,
   "id": "a348e3aa-db24-416e-a446-ec2f5972c677",
   "metadata": {},
   "outputs": [],
   "source": []
  },
  {
   "cell_type": "code",
   "execution_count": null,
   "id": "1ea32756-af2c-4366-ac35-6eb9a658a89b",
   "metadata": {},
   "outputs": [],
   "source": []
  }
 ],
 "metadata": {
  "kernelspec": {
   "display_name": "Python 3 (ipykernel)",
   "language": "python",
   "name": "python3"
  },
  "language_info": {
   "codemirror_mode": {
    "name": "ipython",
    "version": 3
   },
   "file_extension": ".py",
   "mimetype": "text/x-python",
   "name": "python",
   "nbconvert_exporter": "python",
   "pygments_lexer": "ipython3",
   "version": "3.12.11"
  }
 },
 "nbformat": 4,
 "nbformat_minor": 5
}
