{
 "cells": [
  {
   "cell_type": "markdown",
   "id": "18ec3be9-8619-4b6c-9964-5e966b24960d",
   "metadata": {},
   "source": [
    "# How Trainer works"
   ]
  },
  {
   "cell_type": "code",
   "execution_count": 28,
   "id": "db41c17a-d91e-4000-9ba9-e71c4a2889b2",
   "metadata": {},
   "outputs": [],
   "source": [
    "from datasets import load_dataset\n",
    "from transformers import AutoTokenizer, AutoModelForSequenceClassification, DataCollatorWithPadding\n",
    "from torch.utils.data import DataLoader"
   ]
  },
  {
   "cell_type": "code",
   "execution_count": 45,
   "id": "d0bede91-579b-4d59-bc84-733a064bc0e1",
   "metadata": {},
   "outputs": [
    {
     "data": {
      "text/plain": [
       "{'input_ids': torch.Size([8, 73]),\n",
       " 'token_type_ids': torch.Size([8, 73]),\n",
       " 'attention_mask': torch.Size([8, 73]),\n",
       " 'labels': torch.Size([8])}"
      ]
     },
     "execution_count": 45,
     "metadata": {},
     "output_type": "execute_result"
    }
   ],
   "source": [
    "## Data Preprocessing ##\n",
    "data = load_dataset('glue', 'mrpc')\n",
    "\n",
    "tokenizer = AutoTokenizer.from_pretrained('bert-base-uncased')\n",
    "\n",
    "tokenized_data = data.map(lambda x: tokenizer(x['sentence1'], x['sentence2'], truncation=True))\n",
    "\n",
    "data_collator = DataCollatorWithPadding(tokenizer) \n",
    "\n",
    "### DataLoader ###\n",
    "# {k:v for k,v in tokenized_data.items() if k not in ['sentence1','sentence2','idx']}\n",
    "\n",
    "tokenized_data = tokenized_data.remove_columns(['sentence1','sentence2','idx'])\n",
    "tokenized_data.set_format('torch')\n",
    "\n",
    "train_loader = DataLoader(tokenized_data['train'],shuffle=True, batch_size=8,collate_fn=data_collator)\n",
    "\n",
    "eval_loader = DataLoader(tokenized_data['validation'], shuffle=True, batch_size=8, collate_fn=data_collator)\n",
    "\n",
    "for batch in train_loader:\n",
    "    break\n",
    "{k:v.shape for k,v in batch.items()}"
   ]
  },
  {
   "cell_type": "code",
   "execution_count": 60,
   "id": "5c8ff9cc-a60d-4012-952b-b6a8c984492e",
   "metadata": {
    "scrolled": true
   },
   "outputs": [
    {
     "name": "stderr",
     "output_type": "stream",
     "text": [
      "Some weights of BertForSequenceClassification were not initialized from the model checkpoint at bert-base-uncased and are newly initialized: ['classifier.bias', 'classifier.weight']\n",
      "You should probably TRAIN this model on a down-stream task to be able to use it for predictions and inference.\n"
     ]
    },
    {
     "name": "stdout",
     "output_type": "stream",
     "text": [
      "loss:\n",
      " tensor(1.0306, grad_fn=<NllLossBackward0>) \n",
      "logits:\n",
      " torch.Size([8, 2])\n",
      "1377\n"
     ]
    }
   ],
   "source": [
    "## Model ##\n",
    "from transformers import AutoModelForSequenceClassification, get_scheduler\n",
    "from torch.optim import AdamW\n",
    "import torch\n",
    "\n",
    "\n",
    "classifier = AutoModelForSequenceClassification.from_pretrained('bert-base-uncased')\n",
    "\n",
    "test_output = classifier(**batch)\n",
    "\n",
    "print('loss:\\n', test_output.loss, '\\nlogits:\\n', test_output.logits.shape)\n",
    "# probability of classes\n",
    "# torch.nn.functional.softmax(test_output.logits)\n",
    "\n",
    "optimizer = AdamW(classifier.parameters(), lr=1e-5, weight_decay=0.01) #bitesandbyter for memory-efficient optimization, lower lr \n",
    "\n",
    "## lr scheduler = linear decay from 5e-5-0. training step = # epochs*training batches (len(dataloader))\n",
    "num_epochs = 3\n",
    "num_training_steps = num_epochs * len(train_loader)\n",
    "\n",
    "lr_scheduler = get_scheduler(\n",
    "    'linear',\n",
    "    optimizer=optimizer,\n",
    "    num_warmup_steps=0,\n",
    "    num_training_steps=num_training_steps)\n",
    "print(num_training_steps)"
   ]
  },
  {
   "cell_type": "code",
   "execution_count": 68,
   "id": "3a980c86-643f-4e1c-b39a-2bc7246364d0",
   "metadata": {
    "scrolled": true
   },
   "outputs": [
    {
     "name": "stdout",
     "output_type": "stream",
     "text": [
      "cuda\n"
     ]
    },
    {
     "data": {
      "application/vnd.jupyter.widget-view+json": {
       "model_id": "5fa55a6aca784e2690b77bf7971b833b",
       "version_major": 2,
       "version_minor": 0
      },
      "text/plain": [
       "  0%|          | 0/1377 [00:00<?, ?it/s]"
      ]
     },
     "metadata": {},
     "output_type": "display_data"
    }
   ],
   "source": [
    "## Training Loop (undistributed) ##\n",
    "import torch\n",
    "from tqdm.auto import tqdm\n",
    "\n",
    "device = torch.device('cuda') if torch.cuda.is_available() else torch.device('cpu')\n",
    "print(device)\n",
    "\n",
    "classifier.to(device)\n",
    "\n",
    "progress = tqdm(range(num_training_steps))\n",
    "\n",
    "classifier.train()\n",
    "\n",
    "for epoch in range(num_epochs):\n",
    "    for batch in train_loader:\n",
    "        batch = {k:v.to(device) for k,v in batch.items()}\n",
    "        outputs = classifier(**batch)\n",
    "        loss = outputs.loss\n",
    "        loss.backward() # backpropagation (computes gradients w.r.t. weights)\n",
    "\n",
    "        optimizer.step() # update model patameters (weights)\n",
    "        lr_scheduler.step() # adjust learning rate\n",
    "        optimizer.zero_grad() # reset all gradients\n",
    "        progress.update(1) # advance progress bar by 1"
   ]
  },
  {
   "cell_type": "code",
   "execution_count": 93,
   "id": "da5b3ec5-733f-4edd-9a0c-ee2196474039",
   "metadata": {},
   "outputs": [],
   "source": [
    "## training loop (distributed) ##\n",
    "\n",
    "from accelerate import Accelerator\n",
    "from torch.optim import AdamW\n",
    "from transformers import AutoTokenizer , AutoModelForSequenceClassification, DataCollatorWithPadding, get_scheduler\n",
    "from datasets import load_dataset\n",
    "from torch.utils.data import DataLoader\n",
    "import torch\n",
    "from tqdm.auto import tqdm"
   ]
  },
  {
   "cell_type": "code",
   "execution_count": 90,
   "id": "f8eec7e8-f5c2-4eae-9c3f-261b498ec0c9",
   "metadata": {},
   "outputs": [
    {
     "name": "stderr",
     "output_type": "stream",
     "text": [
      "Some weights of BertForSequenceClassification were not initialized from the model checkpoint at bert-base-uncased and are newly initialized: ['classifier.bias', 'classifier.weight']\n",
      "You should probably TRAIN this model on a down-stream task to be able to use it for predictions and inference.\n"
     ]
    },
    {
     "data": {
      "text/plain": [
       "{'input_ids': tensor([[ 101, 2009, 6749, 2008, 9584, 2022, 2445, 2000, 2437, 1996, 3105, 1997,\n",
       "          9915, 2472, 1037, 2476, 2695, 2612, 1997, 1037, 2576, 6098, 1012,  102,\n",
       "          2009, 6083, 2008, 3519, 5136, 2437, 1996, 9915, 2472, 1037, 2658, 2597,\n",
       "          1010, 2738, 2084, 1037, 2576, 6098, 1012,  102]], device='cuda:0'),\n",
       " 'token_type_ids': tensor([[0, 0, 0, 0, 0, 0, 0, 0, 0, 0, 0, 0, 0, 0, 0, 0, 0, 0, 0, 0, 0, 0, 0, 0,\n",
       "          1, 1, 1, 1, 1, 1, 1, 1, 1, 1, 1, 1, 1, 1, 1, 1, 1, 1, 1, 1]],\n",
       "        device='cuda:0'),\n",
       " 'attention_mask': tensor([[1, 1, 1, 1, 1, 1, 1, 1, 1, 1, 1, 1, 1, 1, 1, 1, 1, 1, 1, 1, 1, 1, 1, 1,\n",
       "          1, 1, 1, 1, 1, 1, 1, 1, 1, 1, 1, 1, 1, 1, 1, 1, 1, 1, 1, 1]],\n",
       "        device='cuda:0'),\n",
       " 'labels': tensor([1], device='cuda:0')}"
      ]
     },
     "execution_count": 90,
     "metadata": {},
     "output_type": "execute_result"
    }
   ],
   "source": [
    "## GET DATA\n",
    "\n",
    "data = load_dataset('glue', 'mrpc')\n",
    "\n",
    "token = AutoTokenizer.from_pretrained('bert-base-uncased')\n",
    "\n",
    "tok_data = data.map(lambda x: token(x['sentence1'], x['sentence2'], truncation=True))\n",
    "\n",
    "input_data = tok_data.remove_columns(['sentence1', 'sentence2', 'idx'])\n",
    "\n",
    "collate = DataCollatorWithPadding(tokenizer=token)\n",
    "\n",
    "train_dataloader = DataLoader(input_data['train'], shuffle=True, collate_fn=collate)\n",
    "eval_dataloader = DataLoader(input_data['validation'], shuffle=True, collate_fn=collate)\n",
    "\n",
    "classifier_model = AutoModelForSequenceClassification.from_pretrained('bert-base-uncased')\n",
    "opt = AdamW(classifier_model.parameters(), lr=1e-5)\n",
    "\n",
    "## Distributed trainng\n",
    "accelerator = Accelerator() # initialize the proper distributed setup\n",
    "\n",
    "acc_train_dl, acc_eval_dl, acc_cls_model, acc_opt = accelerator.prepare(train_dataloader, eval_dataloader, classifier_model, opt)\n",
    "\n",
    "for acc_batch in acc_train_dl:\n",
    "    break\n",
    "{k:v for k,v in acc_batch.items()}"
   ]
  },
  {
   "cell_type": "code",
   "execution_count": 95,
   "id": "dc949db6-d2d3-4000-87ad-870f950eb9e5",
   "metadata": {},
   "outputs": [
    {
     "data": {
      "application/vnd.jupyter.widget-view+json": {
       "model_id": "f2ea3ac475e64e1f90ff4ae3adcd8109",
       "version_major": 2,
       "version_minor": 0
      },
      "text/plain": [
       "  0%|          | 0/11004 [00:00<?, ?it/s]"
      ]
     },
     "metadata": {},
     "output_type": "display_data"
    }
   ],
   "source": [
    "## Training loop\n",
    "\n",
    "epochs = 3\n",
    "training_step = epochs * len(acc_train_dl)\n",
    "lr_scheduler = get_scheduler('linear', optimizer=acc_opt, num_warmup_steps=0, num_training_steps=training_step)\n",
    "progress_bar = tqdm(range(training_step))\n",
    "\n",
    "## Trainng\n",
    "\n",
    "acc_cls_model.train()\n",
    "\n",
    "for epoch in range(epochs):\n",
    "    for batch in acc_train_dl:\n",
    "        output = acc_cls_model(**batch)\n",
    "\n",
    "        loss = output.loss\n",
    "        accelerator.backward(loss)\n",
    "\n",
    "        acc_opt.step()\n",
    "        lr_scheduler.step()\n",
    "        acc_opt.zero_grad()\n",
    "        progress_bar.update(1)\n",
    "\n"
   ]
  },
  {
   "cell_type": "code",
   "execution_count": null,
   "id": "ecf0ec71-70e8-4057-aa64-829e810a6251",
   "metadata": {},
   "outputs": [],
   "source": []
  }
 ],
 "metadata": {
  "kernelspec": {
   "display_name": "Python 3 (ipykernel)",
   "language": "python",
   "name": "python3"
  },
  "language_info": {
   "codemirror_mode": {
    "name": "ipython",
    "version": 3
   },
   "file_extension": ".py",
   "mimetype": "text/x-python",
   "name": "python",
   "nbconvert_exporter": "python",
   "pygments_lexer": "ipython3",
   "version": "3.12.11"
  }
 },
 "nbformat": 4,
 "nbformat_minor": 5
}
