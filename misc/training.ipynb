{
 "cells": [
  {
   "cell_type": "markdown",
   "id": "18ec3be9-8619-4b6c-9964-5e966b24960d",
   "metadata": {},
   "source": [
    "# How Trainer works"
   ]
  },
  {
   "cell_type": "code",
   "execution_count": 28,
   "id": "db41c17a-d91e-4000-9ba9-e71c4a2889b2",
   "metadata": {},
   "outputs": [],
   "source": [
    "from datasets import load_dataset\n",
    "from transformers import AutoTokenizer, AutoModelForSequenceClassification, DataCollatorWithPadding\n",
    "from torch.utils.data import DataLoader"
   ]
  },
  {
   "cell_type": "code",
   "execution_count": 45,
   "id": "d0bede91-579b-4d59-bc84-733a064bc0e1",
   "metadata": {},
   "outputs": [
    {
     "data": {
      "text/plain": [
       "{'input_ids': torch.Size([8, 73]),\n",
       " 'token_type_ids': torch.Size([8, 73]),\n",
       " 'attention_mask': torch.Size([8, 73]),\n",
       " 'labels': torch.Size([8])}"
      ]
     },
     "execution_count": 45,
     "metadata": {},
     "output_type": "execute_result"
    }
   ],
   "source": [
    "## Data Preprocessing ##\n",
    "data = load_dataset('glue', 'mrpc')\n",
    "\n",
    "tokenizer = AutoTokenizer.from_pretrained('bert-base-uncased')\n",
    "\n",
    "tokenized_data = data.map(lambda x: tokenizer(x['sentence1'], x['sentence2'], truncation=True))\n",
    "\n",
    "data_collator = DataCollatorWithPadding(tokenizer) \n",
    "\n",
    "### DataLoader ###\n",
    "# {k:v for k,v in tokenized_data.items() if k not in ['sentence1','sentence2','idx']}\n",
    "\n",
    "tokenized_data = tokenized_data.remove_columns(['sentence1','sentence2','idx'])\n",
    "tokenized_data.set_format('torch')\n",
    "\n",
    "train_loader = DataLoader(tokenized_data['train'],shuffle=True, batch_size=8,collate_fn=data_collator)\n",
    "\n",
    "eval_loader = DataLoader(tokenized_data['validation'], shuffle=True, batch_size=8, collate_fn=data_collator)\n",
    "\n",
    "for batch in train_loader:\n",
    "    break\n",
    "{k:v.shape for k,v in batch.items()}"
   ]
  },
  {
   "cell_type": "code",
   "execution_count": 60,
   "id": "5c8ff9cc-a60d-4012-952b-b6a8c984492e",
   "metadata": {
    "scrolled": true
   },
   "outputs": [
    {
     "name": "stderr",
     "output_type": "stream",
     "text": [
      "Some weights of BertForSequenceClassification were not initialized from the model checkpoint at bert-base-uncased and are newly initialized: ['classifier.bias', 'classifier.weight']\n",
      "You should probably TRAIN this model on a down-stream task to be able to use it for predictions and inference.\n"
     ]
    },
    {
     "name": "stdout",
     "output_type": "stream",
     "text": [
      "loss:\n",
      " tensor(1.0306, grad_fn=<NllLossBackward0>) \n",
      "logits:\n",
      " torch.Size([8, 2])\n",
      "1377\n"
     ]
    }
   ],
   "source": [
    "## Model ##\n",
    "from transformers import AutoModelForSequenceClassification\n",
    "from torch.optim import AdamW\n",
    "import torch\n",
    "from transformers import get_scheduler\n",
    "\n",
    "classifier = AutoModelForSequenceClassification.from_pretrained('bert-base-uncased')\n",
    "\n",
    "test_output = classifier(**batch)\n",
    "\n",
    "print('loss:\\n', test_output.loss, '\\nlogits:\\n', test_output.logits.shape)\n",
    "# probability of classes\n",
    "# torch.nn.functional.softmax(test_output.logits)\n",
    "\n",
    "optimizer = AdamW(classifier.parameters(), lr=1e-5, weight_decay=0.01) #bitesandbyter for memory-efficient optimization, lower lr \n",
    "\n",
    "## lr scheduler = linear decay from 5e-5-0. training step = # epochs*training batches (len(dataloader))\n",
    "num_epochs = 3\n",
    "num_training_steps = num_epochs * len(train_loader)\n",
    "\n",
    "lr_scheduler = get_scheduler(\n",
    "    'linear',\n",
    "    optimizer=optimizer,\n",
    "    num_warmup_steps=0,\n",
    "    num_training_steps=num_training_steps)\n",
    "print(num_training_steps)"
   ]
  },
  {
   "cell_type": "code",
   "execution_count": 68,
   "id": "3a980c86-643f-4e1c-b39a-2bc7246364d0",
   "metadata": {
    "scrolled": true
   },
   "outputs": [
    {
     "name": "stdout",
     "output_type": "stream",
     "text": [
      "cuda\n"
     ]
    },
    {
     "data": {
      "application/vnd.jupyter.widget-view+json": {
       "model_id": "5fa55a6aca784e2690b77bf7971b833b",
       "version_major": 2,
       "version_minor": 0
      },
      "text/plain": [
       "  0%|          | 0/1377 [00:00<?, ?it/s]"
      ]
     },
     "metadata": {},
     "output_type": "display_data"
    }
   ],
   "source": [
    "## Training Loop ##\n",
    "import torch\n",
    "from tqdm.auto import tqdm\n",
    "\n",
    "device = torch.device('cuda') if torch.cuda.is_available() else torch.device('cpu')\n",
    "print(device)\n",
    "\n",
    "classifier.to(device)\n",
    "\n",
    "progress = tqdm(range(num_training_steps))\n",
    "\n",
    "classifier.train()\n",
    "\n",
    "for epoch in range(num_epochs):\n",
    "    for batch in train_loader:\n",
    "        batch = {k:v.to(device) for k,v in batch.items()}\n",
    "        outputs = classifier(**batch)\n",
    "        loss = outputs.loss\n",
    "        loss.backward() # backpropagation (computes gradients w.r.t. weights)\n",
    "\n",
    "        optimizer.step() # update model patameters (weights)\n",
    "        lr_scheduler.step() # adjust learning rate\n",
    "        optimizer.zero_grad() # reset all gradients\n",
    "        progress.update(1) # advance progress bar by 1"
   ]
  },
  {
   "cell_type": "code",
   "execution_count": null,
   "id": "da5b3ec5-733f-4edd-9a0c-ee2196474039",
   "metadata": {},
   "outputs": [],
   "source": []
  }
 ],
 "metadata": {
  "kernelspec": {
   "display_name": "Python 3 (ipykernel)",
   "language": "python",
   "name": "python3"
  },
  "language_info": {
   "codemirror_mode": {
    "name": "ipython",
    "version": 3
   },
   "file_extension": ".py",
   "mimetype": "text/x-python",
   "name": "python",
   "nbconvert_exporter": "python",
   "pygments_lexer": "ipython3",
   "version": "3.12.11"
  }
 },
 "nbformat": 4,
 "nbformat_minor": 5
}
